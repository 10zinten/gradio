{
 "cells": [
  {
   "cell_type": "markdown",
   "id": "37c2971c",
   "metadata": {},
   "source": [
    "# Gradio Demo: longest_word"
   ]
  },
  {
   "cell_type": "code",
   "execution_count": null,
   "id": "78282874",
   "metadata": {},
   "outputs": [],
   "source": [
    "!pip install -q gradio "
   ]
  },
  {
   "cell_type": "code",
   "execution_count": null,
   "id": "4ffc1871",
   "metadata": {},
   "outputs": [],
   "source": [
    "import gradio as gr\n",
    "\n",
    "\n",
    "def longest_word(text):\n",
    "    words = text.split(\" \")\n",
    "    lengths = [len(word) for word in words]\n",
    "    return max(lengths)\n",
    "\n",
    "\n",
    "ex = \"The quick brown fox jumped over the lazy dog.\"\n",
    "\n",
    "demo = gr.Interface(\n",
    "    longest_word, \"textbox\", \"label\", interpretation=\"default\", examples=[[ex]]\n",
    ")\n",
    "\n",
    "\n",
    "if __name__ == \"__main__\":\n",
    "    demo.launch()\n"
   ]
  }
 ],
 "metadata": {},
 "nbformat": 4,
 "nbformat_minor": 5
}

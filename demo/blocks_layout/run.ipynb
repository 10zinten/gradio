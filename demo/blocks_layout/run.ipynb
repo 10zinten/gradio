{
 "cells": [
  {
   "cell_type": "markdown",
   "id": "ea91fc2e",
   "metadata": {},
   "source": [
    "# Gradio Demo: blocks_layout"
   ]
  },
  {
   "cell_type": "code",
   "execution_count": null,
   "id": "4d7f3511",
   "metadata": {},
   "outputs": [],
   "source": [
    "!pip install -q gradio "
   ]
  },
  {
   "cell_type": "code",
   "execution_count": null,
   "id": "06db3142",
   "metadata": {},
   "outputs": [],
   "source": [
    "import gradio as gr\n",
    "\n",
    "\n",
    "demo = gr.Blocks()\n",
    "\n",
    "with demo:\n",
    "    with gr.Row():\n",
    "        gr.Image(interactive=True)\n",
    "        gr.Image()\n",
    "    with gr.Row():\n",
    "        gr.Textbox(label=\"Text\")\n",
    "        gr.Number(label=\"Count\")\n",
    "        gr.Radio(choices=[\"One\", \"Two\"])\n",
    "    with gr.Row():\n",
    "        with gr.Row():\n",
    "            with gr.Column():\n",
    "                gr.Textbox(label=\"Text\")\n",
    "                gr.Number(label=\"Count\")\n",
    "                gr.Radio(choices=[\"One\", \"Two\"])\n",
    "            gr.Image()\n",
    "            with gr.Column():\n",
    "                gr.Image(interactive=True)\n",
    "                gr.Image()\n",
    "    gr.Image()\n",
    "    gr.Textbox(label=\"Text\")\n",
    "    gr.Number(label=\"Count\")\n",
    "    gr.Radio(choices=[\"One\", \"Two\"])\n",
    "\n",
    "\n",
    "if __name__ == \"__main__\":\n",
    "    demo.launch()\n"
   ]
  }
 ],
 "metadata": {},
 "nbformat": 4,
 "nbformat_minor": 5
}

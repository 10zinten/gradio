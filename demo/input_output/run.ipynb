{
 "cells": [
  {
   "cell_type": "markdown",
   "id": "67af6d50",
   "metadata": {},
   "source": [
    "# Gradio Demo: input_output"
   ]
  },
  {
   "cell_type": "code",
   "execution_count": null,
   "id": "043503de",
   "metadata": {},
   "outputs": [],
   "source": [
    "!pip install -q gradio "
   ]
  },
  {
   "cell_type": "code",
   "execution_count": null,
   "id": "2b399e01",
   "metadata": {},
   "outputs": [],
   "source": [
    "import gradio as gr\n",
    "\n",
    "\n",
    "def image_mod(text):\n",
    "    return text[::-1]\n",
    "\n",
    "\n",
    "demo = gr.Blocks()\n",
    "\n",
    "with demo:\n",
    "    text = gr.Textbox(label=\"Input-Output\")\n",
    "    btn = gr.Button(\"Run\")\n",
    "    btn.click(image_mod, text, text)\n",
    "\n",
    "if __name__ == \"__main__\":\n",
    "    demo.launch()\n"
   ]
  }
 ],
 "metadata": {},
 "nbformat": 4,
 "nbformat_minor": 5
}

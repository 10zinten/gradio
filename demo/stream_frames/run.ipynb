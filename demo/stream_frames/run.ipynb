{
 "cells": [
  {
   "cell_type": "markdown",
   "id": "865c7cfd",
   "metadata": {},
   "source": [
    "# Gradio Demo: stream_frames"
   ]
  },
  {
   "cell_type": "code",
   "execution_count": null,
   "id": "05d06350",
   "metadata": {},
   "outputs": [],
   "source": [
    "!pip install -q gradio "
   ]
  },
  {
   "cell_type": "code",
   "execution_count": null,
   "id": "79c87f2e",
   "metadata": {},
   "outputs": [],
   "source": [
    "import gradio as gr\n",
    "import numpy as np\n",
    "\n",
    "def flip(im):\n",
    "    return np.flipud(im)\n",
    "\n",
    "demo = gr.Interface(\n",
    "    flip, \n",
    "    gr.Image(source=\"webcam\", streaming=True), \n",
    "    \"image\",\n",
    "    live=True\n",
    ")\n",
    "if __name__ == \"__main__\":\n",
    "    demo.launch()"
   ]
  }
 ],
 "metadata": {},
 "nbformat": 4,
 "nbformat_minor": 5
}

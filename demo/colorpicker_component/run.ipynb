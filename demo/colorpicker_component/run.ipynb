{
 "cells": [
  {
   "cell_type": "markdown",
   "id": "9aac0241",
   "metadata": {},
   "source": [
    "# Gradio Demo: colorpicker_component"
   ]
  },
  {
   "cell_type": "code",
   "execution_count": null,
   "id": "d7d5bac1",
   "metadata": {},
   "outputs": [],
   "source": [
    "!pip install -q gradio "
   ]
  },
  {
   "cell_type": "code",
   "execution_count": null,
   "id": "6734984f",
   "metadata": {},
   "outputs": [],
   "source": [
    "import gradio as gr \n",
    "\n",
    "with gr.Blocks() as demo:\n",
    "    gr.ColorPicker()\n",
    "\n",
    "demo.launch()"
   ]
  }
 ],
 "metadata": {},
 "nbformat": 4,
 "nbformat_minor": 5
}

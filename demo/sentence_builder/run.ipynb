{
 "cells": [
  {
   "cell_type": "markdown",
   "id": "cb50e259",
   "metadata": {},
   "source": [
    "# Gradio Demo: sentence_builder"
   ]
  },
  {
   "cell_type": "code",
   "execution_count": null,
   "id": "48812793",
   "metadata": {},
   "outputs": [],
   "source": [
    "!pip install -q gradio "
   ]
  },
  {
   "cell_type": "code",
   "execution_count": null,
   "id": "04e057c1",
   "metadata": {},
   "outputs": [],
   "source": [
    "import gradio as gr\n",
    "\n",
    "\n",
    "def sentence_builder(quantity, animal, place, activity_list, morning):\n",
    "    return f\"\"\"The {quantity} {animal}s went to the {place} where they {\" and \".join(activity_list)} until the {\"morning\" if morning else \"night\"}\"\"\"\n",
    "\n",
    "\n",
    "demo = gr.Interface(\n",
    "    sentence_builder,\n",
    "    [\n",
    "        gr.Slider(2, 20, value=4),\n",
    "        gr.Dropdown([\"cat\", \"dog\", \"bird\"]),\n",
    "        gr.Radio([\"park\", \"zoo\", \"road\"]),\n",
    "        gr.CheckboxGroup([\"ran\", \"swam\", \"ate\", \"slept\"]),\n",
    "        gr.Checkbox(label=\"Is it the morning?\"),\n",
    "    ],\n",
    "    \"text\",\n",
    "    examples=[\n",
    "        [2, \"cat\", \"park\", [\"ran\", \"swam\"], True],\n",
    "        [4, \"dog\", \"zoo\", [\"ate\", \"swam\"], False],\n",
    "        [10, \"bird\", \"road\", [\"ran\"], False],\n",
    "        [8, \"cat\", \"zoo\", [\"ate\"], True],\n",
    "    ],\n",
    ")\n",
    "\n",
    "if __name__ == \"__main__\":\n",
    "    demo.launch()\n"
   ]
  }
 ],
 "metadata": {},
 "nbformat": 4,
 "nbformat_minor": 5
}

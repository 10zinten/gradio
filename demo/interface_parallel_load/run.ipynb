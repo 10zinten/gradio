{
 "cells": [
  {
   "cell_type": "markdown",
   "id": "5c6021f4",
   "metadata": {},
   "source": [
    "# Gradio Demo: interface_parallel_load"
   ]
  },
  {
   "cell_type": "code",
   "execution_count": null,
   "id": "45f5d1f5",
   "metadata": {},
   "outputs": [],
   "source": [
    "!pip install -q gradio "
   ]
  },
  {
   "cell_type": "code",
   "execution_count": null,
   "id": "211e0da1",
   "metadata": {},
   "outputs": [],
   "source": [
    "import gradio as gr\n",
    "\n",
    "generator1 = gr.Interface.load(\"huggingface/gpt2\")\n",
    "generator2 = gr.Interface.load(\"huggingface/EleutherAI/gpt-neo-2.7B\")\n",
    "generator3 = gr.Interface.load(\"huggingface/EleutherAI/gpt-j-6B\")\n",
    "\n",
    "demo = gr.Parallel(generator1, generator2, generator3)\n",
    "\n",
    "if __name__ == \"__main__\":\n",
    "    demo.launch()"
   ]
  }
 ],
 "metadata": {},
 "nbformat": 4,
 "nbformat_minor": 5
}

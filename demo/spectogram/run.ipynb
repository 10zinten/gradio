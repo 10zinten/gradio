{
 "cells": [
  {
   "cell_type": "markdown",
   "id": "1512d434",
   "metadata": {},
   "source": [
    "# Gradio Demo: spectogram"
   ]
  },
  {
   "cell_type": "code",
   "execution_count": null,
   "id": "19ff0512",
   "metadata": {},
   "outputs": [],
   "source": [
    "!pip install -q gradio scipy numpy matplotlib"
   ]
  },
  {
   "cell_type": "code",
   "execution_count": null,
   "id": "eee48e89",
   "metadata": {},
   "outputs": [],
   "source": [
    "import matplotlib.pyplot as plt\n",
    "import numpy as np\n",
    "from scipy import signal\n",
    "\n",
    "import gradio as gr\n",
    "\n",
    "\n",
    "def spectrogram(audio):\n",
    "    sr, data = audio\n",
    "    if len(data.shape) == 2:\n",
    "        data = np.mean(data, axis=0)\n",
    "    frequencies, times, spectrogram_data = signal.spectrogram(\n",
    "        data, sr, window=\"hamming\"\n",
    "    )\n",
    "    plt.pcolormesh(times, frequencies, np.log10(spectrogram_data))\n",
    "    return plt\n",
    "\n",
    "\n",
    "demo = gr.Interface(spectrogram, \"audio\", \"plot\")\n",
    "\n",
    "if __name__ == \"__main__\":\n",
    "    demo.launch()\n"
   ]
  }
 ],
 "metadata": {},
 "nbformat": 4,
 "nbformat_minor": 5
}

{
 "cells": [
  {
   "cell_type": "markdown",
   "id": "48be89e5",
   "metadata": {},
   "source": [
    "# Gradio Demo: dataframe_component"
   ]
  },
  {
   "cell_type": "code",
   "execution_count": null,
   "id": "553ad660",
   "metadata": {},
   "outputs": [],
   "source": [
    "!pip install -q gradio "
   ]
  },
  {
   "cell_type": "code",
   "execution_count": null,
   "id": "b465c7b7",
   "metadata": {},
   "outputs": [],
   "source": [
    "import gradio as gr \n",
    "\n",
    "with gr.Blocks() as demo:\n",
    "    gr.Dataframe(interactive=True)\n",
    "\n",
    "demo.launch()"
   ]
  }
 ],
 "metadata": {},
 "nbformat": 4,
 "nbformat_minor": 5
}

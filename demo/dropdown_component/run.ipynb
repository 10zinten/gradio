{
 "cells": [
  {
   "cell_type": "markdown",
   "id": "f15e5272",
   "metadata": {},
   "source": [
    "# Gradio Demo: dropdown_component"
   ]
  },
  {
   "cell_type": "code",
   "execution_count": null,
   "id": "a429015c",
   "metadata": {},
   "outputs": [],
   "source": [
    "!pip install -q gradio "
   ]
  },
  {
   "cell_type": "code",
   "execution_count": null,
   "id": "ae86775f",
   "metadata": {},
   "outputs": [],
   "source": [
    "import gradio as gr \n",
    "\n",
    "with gr.Blocks() as demo:\n",
    "    gr.Dropdown(choices=[\"First Choice\", \"Second Choice\", \"Third Choice\"])\n",
    "\n",
    "demo.launch()"
   ]
  }
 ],
 "metadata": {},
 "nbformat": 4,
 "nbformat_minor": 5
}

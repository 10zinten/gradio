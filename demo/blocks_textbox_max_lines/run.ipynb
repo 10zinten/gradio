{
 "cells": [
  {
   "cell_type": "markdown",
   "id": "0900e179",
   "metadata": {},
   "source": [
    "# Gradio Demo: blocks_textbox_max_lines"
   ]
  },
  {
   "cell_type": "code",
   "execution_count": null,
   "id": "8569d164",
   "metadata": {},
   "outputs": [],
   "source": [
    "!pip install -q gradio "
   ]
  },
  {
   "cell_type": "code",
   "execution_count": null,
   "id": "507ad15d",
   "metadata": {},
   "outputs": [],
   "source": [
    "import gradio as gr\n",
    "\n",
    "\n",
    "def greet(name: str, repeat: float):\n",
    "    return \"Hello \" + name * int(repeat) + \"!!\"\n",
    "\n",
    "\n",
    "demo = gr.Interface(\n",
    "    fn=greet, inputs=[gr.Textbox(lines=2, max_lines=4), gr.Number()], outputs=\"textarea\"\n",
    ")\n",
    "\n",
    "if __name__ == \"__main__\":\n",
    "    demo.launch()\n"
   ]
  }
 ],
 "metadata": {},
 "nbformat": 4,
 "nbformat_minor": 5
}

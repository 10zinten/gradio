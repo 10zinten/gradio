{
 "cells": [
  {
   "cell_type": "markdown",
   "id": "035a2f16",
   "metadata": {},
   "source": [
    "# Gradio Demo: file_component"
   ]
  },
  {
   "cell_type": "code",
   "execution_count": null,
   "id": "45c804b0",
   "metadata": {},
   "outputs": [],
   "source": [
    "!pip install -q gradio "
   ]
  },
  {
   "cell_type": "code",
   "execution_count": null,
   "id": "2e40d3ff",
   "metadata": {},
   "outputs": [],
   "source": [
    "import gradio as gr \n",
    "\n",
    "with gr.Blocks() as demo:\n",
    "    gr.File()\n",
    "\n",
    "demo.launch()"
   ]
  }
 ],
 "metadata": {},
 "nbformat": 4,
 "nbformat_minor": 5
}

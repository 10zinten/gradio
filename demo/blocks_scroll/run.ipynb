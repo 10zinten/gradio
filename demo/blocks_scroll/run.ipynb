{
 "cells": [
  {
   "cell_type": "markdown",
   "id": "56bf23b1",
   "metadata": {},
   "source": [
    "# Gradio Demo: blocks_scroll"
   ]
  },
  {
   "cell_type": "code",
   "execution_count": null,
   "id": "de693abb",
   "metadata": {},
   "outputs": [],
   "source": [
    "!pip install -q gradio "
   ]
  },
  {
   "cell_type": "code",
   "execution_count": null,
   "id": "50350f60",
   "metadata": {},
   "outputs": [],
   "source": [
    "import gradio as gr\n",
    "\n",
    "\n",
    "demo = gr.Blocks()\n",
    "\n",
    "with demo:\n",
    "    inp = gr.Textbox(placeholder=\"Enter text.\")\n",
    "    scroll_btn = gr.Button(\"Scroll\")\n",
    "    no_scroll_btn = gr.Button(\"No Scroll\")\n",
    "    big_block = gr.HTML(\"\"\"\n",
    "    <div style='height: 800px; width: 100px; background-color: pink;'></div>\n",
    "    \"\"\")\n",
    "    out = gr.Textbox()\n",
    "    \n",
    "    scroll_btn.click(lambda x: x, \n",
    "               inputs=inp, \n",
    "               outputs=out,\n",
    "                scroll_to_output=True)\n",
    "    no_scroll_btn.click(lambda x: x, \n",
    "               inputs=inp, \n",
    "               outputs=out)\n",
    "\n",
    "if __name__ == \"__main__\":\n",
    "    demo.launch()"
   ]
  }
 ],
 "metadata": {},
 "nbformat": 4,
 "nbformat_minor": 5
}

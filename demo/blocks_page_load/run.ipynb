{
 "cells": [
  {
   "cell_type": "markdown",
   "id": "2cbe5176",
   "metadata": {},
   "source": [
    "# Gradio Demo: blocks_page_load"
   ]
  },
  {
   "cell_type": "code",
   "execution_count": null,
   "id": "a4bc6c1a",
   "metadata": {},
   "outputs": [],
   "source": [
    "!pip install -q gradio "
   ]
  },
  {
   "cell_type": "code",
   "execution_count": null,
   "id": "db12e58c",
   "metadata": {},
   "outputs": [],
   "source": [
    "import gradio as gr\n",
    "\n",
    "\n",
    "def print_message(n):\n",
    "    return \"Welcome! This page has loaded for \" + n\n",
    "\n",
    "\n",
    "with gr.Blocks() as demo:\n",
    "    t = gr.Textbox(\"Frank\", label=\"Name\")\n",
    "    t2 = gr.Textbox(label=\"Output\")\n",
    "    demo.load(print_message, t, t2)\n",
    "\n",
    "\n",
    "if __name__ == \"__main__\":\n",
    "    demo.launch()\n"
   ]
  }
 ],
 "metadata": {},
 "nbformat": 4,
 "nbformat_minor": 5
}

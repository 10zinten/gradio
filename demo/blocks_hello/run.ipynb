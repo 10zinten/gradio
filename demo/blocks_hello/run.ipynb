{
 "cells": [
  {
   "cell_type": "markdown",
   "id": "790f6aba",
   "metadata": {},
   "source": [
    "# Gradio Demo: blocks_hello"
   ]
  },
  {
   "cell_type": "code",
   "execution_count": null,
   "id": "47ad26ff",
   "metadata": {},
   "outputs": [],
   "source": [
    "!pip install -q gradio "
   ]
  },
  {
   "cell_type": "code",
   "execution_count": null,
   "id": "6cc593ae",
   "metadata": {},
   "outputs": [],
   "source": [
    "import gradio as gr\n",
    "\n",
    "def welcome(name):\n",
    "    return f\"Welcome to Gradio, {name}!\"\n",
    "\n",
    "with gr.Blocks() as demo:\n",
    "    gr.Markdown(\n",
    "    \"\"\"\n",
    "    # Hello World!\n",
    "    Start typing below to see the output.\n",
    "    \"\"\")\n",
    "    inp = gr.Textbox(placeholder=\"What is your name?\")\n",
    "    out = gr.Textbox()\n",
    "    inp.change(welcome, inp, out)\n",
    "\n",
    "if __name__ == \"__main__\":\n",
    "    demo.launch()"
   ]
  }
 ],
 "metadata": {},
 "nbformat": 4,
 "nbformat_minor": 5
}

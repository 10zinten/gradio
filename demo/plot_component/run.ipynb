{
 "cells": [
  {
   "cell_type": "markdown",
   "id": "163a6d18",
   "metadata": {},
   "source": [
    "# Gradio Demo: plot_component"
   ]
  },
  {
   "cell_type": "code",
   "execution_count": null,
   "id": "5b5ab74c",
   "metadata": {},
   "outputs": [],
   "source": [
    "!pip install -q gradio matplotlib numpy"
   ]
  },
  {
   "cell_type": "code",
   "execution_count": null,
   "id": "0712ffab",
   "metadata": {},
   "outputs": [],
   "source": [
    "import gradio as gr \n",
    "import matplotlib.pyplot as plt\n",
    "import numpy as np\n",
    "\n",
    "Fs = 8000\n",
    "f = 5\n",
    "sample = 8000\n",
    "x = np.arange(sample)\n",
    "y = np.sin(2 * np.pi * f * x / Fs)\n",
    "plt.plot(x, y)\n",
    "\n",
    "with gr.Blocks() as demo:\n",
    "    gr.Plot(value=plt)\n",
    "\n",
    "demo.launch()"
   ]
  }
 ],
 "metadata": {},
 "nbformat": 4,
 "nbformat_minor": 5
}

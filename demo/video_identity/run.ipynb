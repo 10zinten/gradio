{
 "cells": [
  {
   "cell_type": "markdown",
   "id": "20d82642",
   "metadata": {},
   "source": [
    "# Gradio Demo: video_identity"
   ]
  },
  {
   "cell_type": "code",
   "execution_count": null,
   "id": "303a07cd",
   "metadata": {},
   "outputs": [],
   "source": [
    "!pip install -q gradio "
   ]
  },
  {
   "cell_type": "code",
   "execution_count": null,
   "id": "af515ce6",
   "metadata": {},
   "outputs": [],
   "source": [
    "# Downloading files from the demo repo\n",
    "import os\n",
    "os.mkdir('video')\n",
    "!wget -q -O video/video_sample.mp4 https://github.com/gradio-app/gradio/raw/main/demo/video_identity/video/video_sample.mp4"
   ]
  },
  {
   "cell_type": "code",
   "execution_count": null,
   "id": "dd47ece3",
   "metadata": {},
   "outputs": [],
   "source": [
    "import gradio as gr\n",
    "import os\n",
    "\n",
    "\n",
    "def video_identity(video):\n",
    "    return video\n",
    "\n",
    "\n",
    "demo = gr.Interface(video_identity, \n",
    "                    gr.Video(), \n",
    "                    \"playable_video\", \n",
    "                    examples=[\n",
    "                        os.path.join(os.path.abspath(''), \n",
    "                                     \"video/video_sample.mp4\")], \n",
    "                    cache_examples=True)\n",
    "\n",
    "if __name__ == \"__main__\":\n",
    "    demo.launch()\n"
   ]
  }
 ],
 "metadata": {},
 "nbformat": 4,
 "nbformat_minor": 5
}

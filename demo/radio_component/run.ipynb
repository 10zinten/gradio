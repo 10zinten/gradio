{
 "cells": [
  {
   "cell_type": "markdown",
   "id": "e73efe7b",
   "metadata": {},
   "source": [
    "# Gradio Demo: radio_component"
   ]
  },
  {
   "cell_type": "code",
   "execution_count": null,
   "id": "ad9a75f2",
   "metadata": {},
   "outputs": [],
   "source": [
    "!pip install -q gradio "
   ]
  },
  {
   "cell_type": "code",
   "execution_count": null,
   "id": "c3cfebc8",
   "metadata": {},
   "outputs": [],
   "source": [
    "import gradio as gr \n",
    "\n",
    "with gr.Blocks() as demo:\n",
    "    gr.Radio(choices=[\"First Choice\", \"Second Choice\", \"Third Choice\"])\n",
    "\n",
    "demo.launch()"
   ]
  }
 ],
 "metadata": {},
 "nbformat": 4,
 "nbformat_minor": 5
}

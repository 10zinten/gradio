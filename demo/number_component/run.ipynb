{
 "cells": [
  {
   "cell_type": "markdown",
   "id": "3d4a3309",
   "metadata": {},
   "source": [
    "# Gradio Demo: number_component"
   ]
  },
  {
   "cell_type": "code",
   "execution_count": null,
   "id": "cad1d062",
   "metadata": {},
   "outputs": [],
   "source": [
    "!pip install -q gradio "
   ]
  },
  {
   "cell_type": "code",
   "execution_count": null,
   "id": "1c028fbe",
   "metadata": {},
   "outputs": [],
   "source": [
    "import gradio as gr \n",
    "\n",
    "with gr.Blocks() as demo:\n",
    "    gr.Number()\n",
    "\n",
    "demo.launch()"
   ]
  }
 ],
 "metadata": {},
 "nbformat": 4,
 "nbformat_minor": 5
}

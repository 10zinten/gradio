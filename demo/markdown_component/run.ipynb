{
 "cells": [
  {
   "cell_type": "markdown",
   "id": "43df7900",
   "metadata": {},
   "source": [
    "# Gradio Demo: markdown_component"
   ]
  },
  {
   "cell_type": "code",
   "execution_count": null,
   "id": "7cffc807",
   "metadata": {},
   "outputs": [],
   "source": [
    "!pip install -q gradio "
   ]
  },
  {
   "cell_type": "code",
   "execution_count": null,
   "id": "a069ceae",
   "metadata": {},
   "outputs": [],
   "source": [
    "import gradio as gr \n",
    "\n",
    "with gr.Blocks() as demo:\n",
    "    gr.Markdown(value=\"This _example_ was **written** in [Markdown](https://en.wikipedia.org/wiki/Markdown)\\n\")\n",
    "\n",
    "demo.launch()"
   ]
  }
 ],
 "metadata": {},
 "nbformat": 4,
 "nbformat_minor": 5
}

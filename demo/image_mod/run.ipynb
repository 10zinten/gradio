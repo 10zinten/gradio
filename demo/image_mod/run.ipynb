{
 "cells": [
  {
   "cell_type": "markdown",
   "id": "466a55a3",
   "metadata": {},
   "source": [
    "# Gradio Demo: image_mod"
   ]
  },
  {
   "cell_type": "code",
   "execution_count": null,
   "id": "b44749d9",
   "metadata": {},
   "outputs": [],
   "source": [
    "!pip install -q gradio "
   ]
  },
  {
   "cell_type": "code",
   "execution_count": null,
   "id": "3adc5856",
   "metadata": {},
   "outputs": [],
   "source": [
    "# Downloading files from the demo repo\n",
    "import os\n",
    "os.mkdir('images')\n",
    "!wget -q -O images/lion.jpg https://github.com/gradio-app/gradio/raw/main/demo/image_mod/images/lion.jpg\n",
    "!wget -q -O images/cheetah1.jpg https://github.com/gradio-app/gradio/raw/main/demo/image_mod/images/cheetah1.jpg\n",
    "!wget -q -O images/logo.png https://github.com/gradio-app/gradio/raw/main/demo/image_mod/images/logo.png"
   ]
  },
  {
   "cell_type": "code",
   "execution_count": null,
   "id": "07abb5fe",
   "metadata": {},
   "outputs": [],
   "source": [
    "import gradio as gr\n",
    "import os\n",
    "\n",
    "\n",
    "def image_mod(image):\n",
    "    return image.rotate(45)\n",
    "\n",
    "\n",
    "demo = gr.Interface(image_mod, gr.Image(type=\"pil\"), \"image\",\n",
    "    flagging_options=[\"blurry\", \"incorrect\", \"other\"], examples=[\n",
    "        os.path.join(os.path.abspath(''), \"images/cheetah1.jpg\"),\n",
    "        os.path.join(os.path.abspath(''), \"images/lion.jpg\"),\n",
    "        os.path.join(os.path.abspath(''), \"images/logo.png\")\n",
    "        ])\n",
    "\n",
    "if __name__ == \"__main__\":\n",
    "    demo.launch()\n"
   ]
  }
 ],
 "metadata": {},
 "nbformat": 4,
 "nbformat_minor": 5
}

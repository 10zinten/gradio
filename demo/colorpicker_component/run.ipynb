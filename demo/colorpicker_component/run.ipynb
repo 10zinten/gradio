{
 "cells": [
  {
   "cell_type": "markdown",
   "id": "9764493d",
   "metadata": {},
   "source": [
    "# Gradio Demo: colorpicker_component"
   ]
  },
  {
   "cell_type": "code",
   "execution_count": null,
   "id": "b62af4a0",
   "metadata": {},
   "outputs": [],
   "source": [
    "!pip install -q gradio "
   ]
  },
  {
   "cell_type": "code",
   "execution_count": null,
   "id": "898d0044",
   "metadata": {},
   "outputs": [],
   "source": [
    "import gradio as gr \n",
    "\n",
    "with gr.Blocks() as demo:\n",
    "    gr.ColorPicker()\n",
    "\n",
    "demo.launch()"
   ]
  }
 ],
 "metadata": {},
 "nbformat": 4,
 "nbformat_minor": 5
}

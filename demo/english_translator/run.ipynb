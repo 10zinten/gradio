{
 "cells": [
  {
   "cell_type": "markdown",
   "id": "a41f038c",
   "metadata": {},
   "source": [
    "# Gradio Demo: english_translator"
   ]
  },
  {
   "cell_type": "code",
   "execution_count": null,
   "id": "d4bc1c3c",
   "metadata": {},
   "outputs": [],
   "source": [
    "!pip install -q gradio transformers torch"
   ]
  },
  {
   "cell_type": "code",
   "execution_count": null,
   "id": "6dd9a186",
   "metadata": {},
   "outputs": [],
   "source": [
    "import gradio as gr\n",
    "\n",
    "from transformers import pipeline\n",
    "\n",
    "pipe = pipeline(\"translation\", model=\"t5-base\")\n",
    "\n",
    "\n",
    "def translate(text):\n",
    "    return pipe(text)[0][\"translation_text\"]\n",
    "\n",
    "\n",
    "with gr.Blocks() as demo:\n",
    "    with gr.Row():\n",
    "        with gr.Column():\n",
    "            english = gr.Textbox(label=\"English text\")\n",
    "            translate_btn = gr.Button(value=\"Translate\")\n",
    "        with gr.Column():\n",
    "            german = gr.Textbox(label=\"German Text\")\n",
    "\n",
    "    translate_btn.click(translate, inputs=english, outputs=german, api_name=\"translate-to-german\")\n",
    "    examples = gr.Examples(examples=[\"I went to the supermarket yesterday.\", \"Helen is a good swimmer.\"],\n",
    "                           inputs=[english])\n",
    "\n",
    "if __name__ == \"__main__\":\n",
    "    demo.launch()"
   ]
  }
 ],
 "metadata": {},
 "nbformat": 4,
 "nbformat_minor": 5
}

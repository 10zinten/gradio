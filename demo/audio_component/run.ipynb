{
 "cells": [
  {
   "cell_type": "markdown",
   "id": "3df1d7c1",
   "metadata": {},
   "source": [
    "# Gradio Demo: audio_component"
   ]
  },
  {
   "cell_type": "code",
   "execution_count": null,
   "id": "ff2af277",
   "metadata": {},
   "outputs": [],
   "source": [
    "!pip install -q gradio "
   ]
  },
  {
   "cell_type": "code",
   "execution_count": null,
   "id": "29c7db24",
   "metadata": {},
   "outputs": [],
   "source": [
    "import gradio as gr\n",
    "\n",
    "with gr.Blocks() as demo:\n",
    "    gr.Audio()\n",
    "\n",
    "demo.launch()\n"
   ]
  }
 ],
 "metadata": {},
 "nbformat": 4,
 "nbformat_minor": 5
}

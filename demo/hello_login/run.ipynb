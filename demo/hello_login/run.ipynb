{
 "cells": [
  {
   "cell_type": "markdown",
   "id": "fa18a860",
   "metadata": {},
   "source": [
    "# Gradio Demo: hello_login"
   ]
  },
  {
   "cell_type": "code",
   "execution_count": null,
   "id": "325765dd",
   "metadata": {},
   "outputs": [],
   "source": [
    "!pip install -q gradio "
   ]
  },
  {
   "cell_type": "code",
   "execution_count": null,
   "id": "2822eba5",
   "metadata": {},
   "outputs": [],
   "source": [
    "import gradio as gr\n",
    "\n",
    "user_db = {\"admin\": \"admin\", \"foo\": \"bar\"}\n",
    "\n",
    "\n",
    "def greet(name):\n",
    "    return \"Hello \" + name + \"!!\"\n",
    "\n",
    "\n",
    "demo = gr.Interface(fn=greet, inputs=\"text\", outputs=\"text\")\n",
    "if __name__ == \"__main__\":\n",
    "    demo.launch(enable_queue=False,\n",
    "        auth=lambda u, p: user_db.get(u) == p,\n",
    "        auth_message=\"This is a welcome message\")\n"
   ]
  }
 ],
 "metadata": {},
 "nbformat": 4,
 "nbformat_minor": 5
}

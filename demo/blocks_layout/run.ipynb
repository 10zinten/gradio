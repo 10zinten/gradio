{
 "cells": [
  {
   "cell_type": "markdown",
   "id": "c2a98f7b",
   "metadata": {},
   "source": [
    "# Gradio Demo: blocks_layout"
   ]
  },
  {
   "cell_type": "code",
   "execution_count": null,
   "id": "b92b7546",
   "metadata": {},
   "outputs": [],
   "source": [
    "!pip install -q gradio "
   ]
  },
  {
   "cell_type": "code",
   "execution_count": null,
   "id": "b2ff5846",
   "metadata": {},
   "outputs": [],
   "source": [
    "import gradio as gr\n",
    "\n",
    "\n",
    "demo = gr.Blocks()\n",
    "\n",
    "with demo:\n",
    "    with gr.Row():\n",
    "        gr.Image(interactive=True)\n",
    "        gr.Image()\n",
    "    with gr.Row():\n",
    "        gr.Textbox(label=\"Text\")\n",
    "        gr.Number(label=\"Count\")\n",
    "        gr.Radio(choices=[\"One\", \"Two\"])\n",
    "    with gr.Row():\n",
    "        with gr.Row():\n",
    "            with gr.Column():\n",
    "                gr.Textbox(label=\"Text\")\n",
    "                gr.Number(label=\"Count\")\n",
    "                gr.Radio(choices=[\"One\", \"Two\"])\n",
    "            gr.Image()\n",
    "            with gr.Column():\n",
    "                gr.Image(interactive=True)\n",
    "                gr.Image()\n",
    "    gr.Image()\n",
    "    gr.Textbox(label=\"Text\")\n",
    "    gr.Number(label=\"Count\")\n",
    "    gr.Radio(choices=[\"One\", \"Two\"])\n",
    "\n",
    "\n",
    "if __name__ == \"__main__\":\n",
    "    demo.launch()\n"
   ]
  }
 ],
 "metadata": {},
 "nbformat": 4,
 "nbformat_minor": 5
}

{
 "cells": [
  {
   "cell_type": "markdown",
   "id": "e22d6a61",
   "metadata": {},
   "source": [
    "# Gradio Demo: blocks_webcam"
   ]
  },
  {
   "cell_type": "code",
   "execution_count": null,
   "id": "b950a26b",
   "metadata": {},
   "outputs": [],
   "source": [
    "!pip install -q gradio "
   ]
  },
  {
   "cell_type": "code",
   "execution_count": null,
   "id": "e2b153a3",
   "metadata": {},
   "outputs": [],
   "source": [
    "import numpy as np\n",
    "\n",
    "import gradio as gr\n",
    "\n",
    "\n",
    "def snap(image):\n",
    "    return np.flipud(image)\n",
    "\n",
    "\n",
    "demo = gr.Interface(snap, \"webcam\", \"image\")\n",
    "\n",
    "if __name__ == \"__main__\":\n",
    "    demo.launch()\n"
   ]
  }
 ],
 "metadata": {},
 "nbformat": 4,
 "nbformat_minor": 5
}

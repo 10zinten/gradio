{
 "cells": [
  {
   "cell_type": "markdown",
   "id": "c14848ba",
   "metadata": {},
   "source": [
    "# Gradio Demo: filter_records"
   ]
  },
  {
   "cell_type": "code",
   "execution_count": null,
   "id": "8be2d688",
   "metadata": {},
   "outputs": [],
   "source": [
    "!pip install -q gradio "
   ]
  },
  {
   "cell_type": "code",
   "execution_count": null,
   "id": "cb9191cb",
   "metadata": {},
   "outputs": [],
   "source": [
    "import gradio as gr\n",
    "\n",
    "\n",
    "def filter_records(records, gender):\n",
    "    return records[records[\"gender\"] == gender]\n",
    "\n",
    "\n",
    "demo = gr.Interface(\n",
    "    filter_records,\n",
    "    [\n",
    "        gr.Dataframe(\n",
    "            headers=[\"name\", \"age\", \"gender\"],\n",
    "            datatype=[\"str\", \"number\", \"str\"],\n",
    "            row_count=5,\n",
    "            col_count=(3, \"fixed\"),\n",
    "        ),\n",
    "        gr.Dropdown([\"M\", \"F\", \"O\"]),\n",
    "    ],\n",
    "    \"dataframe\",\n",
    "    description=\"Enter gender as 'M', 'F', or 'O' for other.\",\n",
    ")\n",
    "\n",
    "if __name__ == \"__main__\":\n",
    "    demo.launch()\n"
   ]
  }
 ],
 "metadata": {},
 "nbformat": 4,
 "nbformat_minor": 5
}

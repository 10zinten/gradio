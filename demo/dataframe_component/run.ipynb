{
 "cells": [
  {
   "cell_type": "markdown",
   "id": "131b1539",
   "metadata": {},
   "source": [
    "# Gradio Demo: dataframe_component"
   ]
  },
  {
   "cell_type": "code",
   "execution_count": null,
   "id": "88159e8f",
   "metadata": {},
   "outputs": [],
   "source": [
    "!pip install -q gradio "
   ]
  },
  {
   "cell_type": "code",
   "execution_count": null,
   "id": "42673fab",
   "metadata": {},
   "outputs": [],
   "source": [
    "import gradio as gr \n",
    "\n",
    "with gr.Blocks() as demo:\n",
    "    gr.Dataframe(interactive=True)\n",
    "\n",
    "demo.launch()"
   ]
  }
 ],
 "metadata": {},
 "nbformat": 4,
 "nbformat_minor": 5
}

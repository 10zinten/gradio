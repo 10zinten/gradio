{
 "cells": [
  {
   "cell_type": "markdown",
   "id": "136d43ca",
   "metadata": {},
   "source": [
    "# Gradio Demo: image_classifier_2"
   ]
  },
  {
   "cell_type": "code",
   "execution_count": null,
   "id": "5a1a9bde",
   "metadata": {},
   "outputs": [],
   "source": [
    "!pip install -q gradio pillow torch torchvision"
   ]
  },
  {
   "cell_type": "code",
   "execution_count": null,
   "id": "c3663238",
   "metadata": {},
   "outputs": [],
   "source": [
    "# Downloading files from the demo repo\n",
    "import os\n",
    "os.mkdir('files')\n",
    "!wget -q -O files/imagenet_labels.json https://github.com/gradio-app/gradio/raw/main/demo/image_classifier_2/files/imagenet_labels.json"
   ]
  },
  {
   "cell_type": "code",
   "execution_count": null,
   "id": "828e81a7",
   "metadata": {},
   "outputs": [],
   "source": [
    "import requests\n",
    "import torch\n",
    "from PIL import Image\n",
    "from torchvision import transforms\n",
    "\n",
    "import gradio as gr\n",
    "\n",
    "model = torch.hub.load(\"pytorch/vision:v0.6.0\", \"resnet18\", pretrained=True).eval()\n",
    "\n",
    "# Download human-readable labels for ImageNet.\n",
    "response = requests.get(\"https://git.io/JJkYN\")\n",
    "labels = response.text.split(\"\\n\")\n",
    "\n",
    "\n",
    "def predict(inp):\n",
    "    inp = Image.fromarray(inp.astype(\"uint8\"), \"RGB\")\n",
    "    inp = transforms.ToTensor()(inp).unsqueeze(0)\n",
    "    with torch.no_grad():\n",
    "        prediction = torch.nn.functional.softmax(model(inp)[0], dim=0)\n",
    "    return {labels[i]: float(prediction[i]) for i in range(1000)}\n",
    "\n",
    "\n",
    "inputs = gr.Image()\n",
    "outputs = gr.Label(num_top_classes=3)\n",
    "\n",
    "demo = gr.Interface(fn=predict, inputs=inputs, outputs=outputs)\n",
    "\n",
    "if __name__ == \"__main__\":\n",
    "    demo.launch()\n"
   ]
  }
 ],
 "metadata": {},
 "nbformat": 4,
 "nbformat_minor": 5
}

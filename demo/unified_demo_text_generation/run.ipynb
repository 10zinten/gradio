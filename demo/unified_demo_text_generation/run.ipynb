{
  "cells": [
    {
      "cell_type": "markdown",
      "id": 3.0293430767166755e+38,
      "metadata": {
        "id": 3.0293430767166755e+38
      },
      "source": [
        "# Gradio Demo: unified_demo_text_generation\n",
        "\n",
        "---\n",
        "\n"
      ]
    },
    {
      "cell_type": "code",
      "execution_count": null,
      "id": 2.7299665331067346e+38,
      "metadata": {
        "id": 2.7299665331067346e+38
      },
      "outputs": [],
      "source": [
        "!pip install -q gradio\n",
        "!pip install transformers"
      ]
    },
    {
      "cell_type": "code",
      "source": [
        "from transformers import pipeline\n",
        "import gradio as gr\n",
        "\n",
        "generator = pipeline('text-generation', model = 'gpt2')\n",
        "\n",
        "def generate_text(text_prompt):\n",
        "  response = generator(text_prompt, max_length = 30, num_return_sequences=5)\n",
        "  return response[0]['generated_text']\n",
        "\n",
        "blocks = gr.Blocks()\n",
        "\n",
        "with blocks as demo:\n",
        "  textbox_in_out = gr.Textbox(placeholder=\"Hello, I'm a language model\", label=\"Enter your initial text here\") \n",
        "  btn_generate = gr.Button(\"Generate Text\")\n",
        "  btn_generate.click(generate_text,inputs=textbox_in_out, outputs=textbox_in_out )\n",
        "\n",
        "if __name__ == \"__main__\":\n",
        "    demo.launch()"
      ],
      "metadata": {
        "id": "NeG-s807kT3z"
      },
      "id": "NeG-s807kT3z",
      "execution_count": null,
      "outputs": []
    }
  ],
  "metadata": {
    "colab": {
      "provenance": []
    }
  },
  "nbformat": 4,
  "nbformat_minor": 5
}
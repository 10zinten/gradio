{
 "cells": [
  {
   "cell_type": "markdown",
   "id": "ebd3f1e1",
   "metadata": {},
   "source": [
    "# Gradio Demo: reverse_audio"
   ]
  },
  {
   "cell_type": "code",
   "execution_count": null,
   "id": "bc727bbc",
   "metadata": {},
   "outputs": [],
   "source": [
    "!pip install -q gradio "
   ]
  },
  {
   "cell_type": "code",
   "execution_count": null,
   "id": "6ea36bf2",
   "metadata": {},
   "outputs": [],
   "source": [
    "# Downloading files from the demo repo\n",
    "import os\n",
    "os.mkdir('audio')\n",
    "!wget -q -O audio/recording1.wav https://github.com/gradio-app/gradio/raw/main/demo/reverse_audio/audio/recording1.wav\n",
    "!wget -q -O audio/cantina.wav https://github.com/gradio-app/gradio/raw/main/demo/reverse_audio/audio/cantina.wav"
   ]
  },
  {
   "cell_type": "code",
   "execution_count": null,
   "id": "1779ca94",
   "metadata": {},
   "outputs": [],
   "source": [
    "import os\n",
    "\n",
    "import numpy as np\n",
    "\n",
    "import gradio as gr\n",
    "\n",
    "\n",
    "def reverse_audio(audio):\n",
    "    sr, data = audio\n",
    "    return (sr, np.flipud(data))\n",
    "\n",
    "\n",
    "demo = gr.Interface(fn=reverse_audio, \n",
    "                    inputs=\"microphone\", \n",
    "                    outputs=\"audio\", \n",
    "                    examples=[\n",
    "                    \"https://samplelib.com/lib/preview/mp3/sample-3s.mp3\",\n",
    "                    os.path.join(os.path.abspath(''), \"audio/recording1.wav\")\n",
    "        ], cache_examples=True)\n",
    "\n",
    "if __name__ == \"__main__\":\n",
    "    demo.launch()\n"
   ]
  }
 ],
 "metadata": {},
 "nbformat": 4,
 "nbformat_minor": 5
}

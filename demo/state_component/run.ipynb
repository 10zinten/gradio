{
 "cells": [
  {
   "cell_type": "markdown",
   "id": "d6e9657d",
   "metadata": {},
   "source": [
    "# Gradio Demo: state_component"
   ]
  },
  {
   "cell_type": "code",
   "execution_count": null,
   "id": "583ea35b",
   "metadata": {},
   "outputs": [],
   "source": [
    "!pip install -q gradio "
   ]
  },
  {
   "cell_type": "code",
   "execution_count": null,
   "id": "d2eac339",
   "metadata": {},
   "outputs": [],
   "source": [
    "import gradio as gr \n",
    "\n",
    "with gr.Blocks() as demo:\n",
    "    gr.State()\n",
    "\n",
    "demo.launch()"
   ]
  }
 ],
 "metadata": {},
 "nbformat": 4,
 "nbformat_minor": 5
}

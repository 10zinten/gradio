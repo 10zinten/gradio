{
 "cells": [
  {
   "cell_type": "markdown",
   "id": "24bc685e",
   "metadata": {},
   "source": [
    "# Gradio Demo: checkbox_component"
   ]
  },
  {
   "cell_type": "code",
   "execution_count": null,
   "id": "5aecc948",
   "metadata": {},
   "outputs": [],
   "source": [
    "!pip install -q gradio "
   ]
  },
  {
   "cell_type": "code",
   "execution_count": null,
   "id": "d36905c1",
   "metadata": {},
   "outputs": [],
   "source": [
    "import gradio as gr \n",
    "\n",
    "with gr.Blocks() as demo:\n",
    "    gr.Checkbox()\n",
    "\n",
    "demo.launch()"
   ]
  }
 ],
 "metadata": {},
 "nbformat": 4,
 "nbformat_minor": 5
}

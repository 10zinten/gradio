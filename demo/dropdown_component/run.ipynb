{
 "cells": [
  {
   "cell_type": "markdown",
   "id": "bd274228",
   "metadata": {},
   "source": [
    "# Gradio Demo: dropdown_component"
   ]
  },
  {
   "cell_type": "code",
   "execution_count": null,
   "id": "2907081e",
   "metadata": {},
   "outputs": [],
   "source": [
    "!pip install -q gradio "
   ]
  },
  {
   "cell_type": "code",
   "execution_count": null,
   "id": "fcc87c66",
   "metadata": {},
   "outputs": [],
   "source": [
    "import gradio as gr \n",
    "\n",
    "with gr.Blocks() as demo:\n",
    "    gr.Dropdown(choices=[\"First Choice\", \"Second Choice\", \"Third Choice\"])\n",
    "\n",
    "demo.launch()"
   ]
  }
 ],
 "metadata": {},
 "nbformat": 4,
 "nbformat_minor": 5
}

{
 "cells": [
  {
   "cell_type": "markdown",
   "id": "0d1863d7",
   "metadata": {},
   "source": [
    "# Gradio Demo: matrix_transpose"
   ]
  },
  {
   "cell_type": "code",
   "execution_count": null,
   "id": "358314ff",
   "metadata": {},
   "outputs": [],
   "source": [
    "!pip install -q gradio "
   ]
  },
  {
   "cell_type": "code",
   "execution_count": null,
   "id": "72872806",
   "metadata": {},
   "outputs": [],
   "source": [
    "import numpy as np\n",
    "\n",
    "import gradio as gr\n",
    "\n",
    "\n",
    "def transpose(matrix):\n",
    "    return matrix.T\n",
    "\n",
    "\n",
    "demo = gr.Interface(\n",
    "    transpose,\n",
    "    gr.Dataframe(type=\"numpy\", datatype=\"number\", row_count=5, col_count=3),\n",
    "    \"numpy\",\n",
    "    examples=[\n",
    "        [np.zeros((3, 3)).tolist()],\n",
    "        [np.ones((2, 2)).tolist()],\n",
    "        [np.random.randint(0, 10, (3, 10)).tolist()],\n",
    "        [np.random.randint(0, 10, (10, 3)).tolist()],\n",
    "        [np.random.randint(0, 10, (10, 10)).tolist()],\n",
    "    ],\n",
    "    cache_examples=False\n",
    ")\n",
    "\n",
    "if __name__ == \"__main__\":\n",
    "    demo.launch()\n"
   ]
  }
 ],
 "metadata": {},
 "nbformat": 4,
 "nbformat_minor": 5
}

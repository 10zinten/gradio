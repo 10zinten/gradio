{
 "cells": [
  {
   "cell_type": "markdown",
   "id": "c46a04db",
   "metadata": {},
   "source": [
    "# Gradio Demo: digit_classifier"
   ]
  },
  {
   "cell_type": "code",
   "execution_count": null,
   "id": "1572457c",
   "metadata": {},
   "outputs": [],
   "source": [
    "!pip install -q gradio tensorflow"
   ]
  },
  {
   "cell_type": "code",
   "execution_count": null,
   "id": "4a72347b",
   "metadata": {},
   "outputs": [],
   "source": [
    "import os\n",
    "from urllib.request import urlretrieve\n",
    "\n",
    "import tensorflow as tf\n",
    "\n",
    "import gradio\n",
    "import gradio as gr\n",
    "\n",
    "urlretrieve(\n",
    "    \"https://gr-models.s3-us-west-2.amazonaws.com/mnist-model.h5\", \"mnist-model.h5\"\n",
    ")\n",
    "model = tf.keras.models.load_model(\"mnist-model.h5\")\n",
    "\n",
    "\n",
    "def recognize_digit(image):\n",
    "    image = image.reshape(1, -1)\n",
    "    prediction = model.predict(image).tolist()[0]\n",
    "    return {str(i): prediction[i] for i in range(10)}\n",
    "\n",
    "\n",
    "im = gradio.Image(shape=(28, 28), image_mode=\"L\", invert_colors=False, source=\"canvas\")\n",
    "\n",
    "demo = gr.Interface(\n",
    "    recognize_digit,\n",
    "    im,\n",
    "    gradio.Label(num_top_classes=3),\n",
    "    live=True,\n",
    "    interpretation=\"default\",\n",
    "    capture_session=True,\n",
    ")\n",
    "\n",
    "if __name__ == \"__main__\":\n",
    "    demo.launch()\n"
   ]
  }
 ],
 "metadata": {},
 "nbformat": 4,
 "nbformat_minor": 5
}

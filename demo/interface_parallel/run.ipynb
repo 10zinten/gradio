{
 "cells": [
  {
   "cell_type": "markdown",
   "id": "8412b96e",
   "metadata": {},
   "source": [
    "# Gradio Demo: interface_parallel"
   ]
  },
  {
   "cell_type": "code",
   "execution_count": null,
   "id": "bbb90e9c",
   "metadata": {},
   "outputs": [],
   "source": [
    "!pip install -q gradio "
   ]
  },
  {
   "cell_type": "code",
   "execution_count": null,
   "id": "ce30dcd3",
   "metadata": {},
   "outputs": [],
   "source": [
    "import gradio as gr\n",
    "\n",
    "greeter_1 = gr.Interface(lambda name: f\"Hello {name}!\", inputs=\"textbox\", outputs=gr.Textbox(label=\"Greeter 1\"))\n",
    "greeter_2 = gr.Interface(lambda name: f\"Greetings {name}!\", inputs=\"textbox\", outputs=gr.Textbox(label=\"Greeter 2\"))\n",
    "demo = gr.Parallel(greeter_1, greeter_2)\n",
    "\n",
    "if __name__ == \"__main__\":\n",
    "    demo.launch()"
   ]
  }
 ],
 "metadata": {},
 "nbformat": 4,
 "nbformat_minor": 5
}

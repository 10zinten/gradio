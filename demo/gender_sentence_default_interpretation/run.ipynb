{
 "cells": [
  {
   "cell_type": "markdown",
   "id": "2a4eb7c7",
   "metadata": {},
   "source": [
    "# Gradio Demo: gender_sentence_default_interpretation"
   ]
  },
  {
   "cell_type": "code",
   "execution_count": null,
   "id": "ec7b98b1",
   "metadata": {},
   "outputs": [],
   "source": [
    "!pip install -q gradio "
   ]
  },
  {
   "cell_type": "code",
   "execution_count": null,
   "id": "b06c10ed",
   "metadata": {},
   "outputs": [],
   "source": [
    "import gradio as gr\n",
    "\n",
    "male_words, female_words = [\"he\", \"his\", \"him\"], [\"she\", \"hers\", \"her\"]\n",
    "\n",
    "\n",
    "def gender_of_sentence(sentence):\n",
    "    male_count = len([word for word in sentence.split() if word.lower() in male_words])\n",
    "    female_count = len(\n",
    "        [word for word in sentence.split() if word.lower() in female_words]\n",
    "    )\n",
    "    total = max(male_count + female_count, 1)\n",
    "    return {\"male\": male_count / total, \"female\": female_count / total}\n",
    "\n",
    "\n",
    "demo = gr.Interface(\n",
    "    fn=gender_of_sentence,\n",
    "    inputs=gr.Textbox(value=\"She went to his house to get her keys.\"),\n",
    "    outputs=\"label\",\n",
    "    interpretation=\"default\",\n",
    ")\n",
    "\n",
    "if __name__ == \"__main__\":\n",
    "    demo.launch()\n"
   ]
  }
 ],
 "metadata": {},
 "nbformat": 4,
 "nbformat_minor": 5
}

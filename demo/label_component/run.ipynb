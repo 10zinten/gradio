{
 "cells": [
  {
   "cell_type": "markdown",
   "id": "3c33b580",
   "metadata": {},
   "source": [
    "# Gradio Demo: label_component"
   ]
  },
  {
   "cell_type": "code",
   "execution_count": null,
   "id": "49f24a66",
   "metadata": {},
   "outputs": [],
   "source": [
    "!pip install -q gradio "
   ]
  },
  {
   "cell_type": "code",
   "execution_count": null,
   "id": "3367bc8a",
   "metadata": {},
   "outputs": [],
   "source": [
    "import gradio as gr \n",
    "\n",
    "with gr.Blocks() as demo:\n",
    "    gr.Label(value={\"First Label\": 0.7, \"Second Label\": 0.2, \"Third Label\": 0.1})\n",
    "\n",
    "demo.launch()"
   ]
  }
 ],
 "metadata": {},
 "nbformat": 4,
 "nbformat_minor": 5
}

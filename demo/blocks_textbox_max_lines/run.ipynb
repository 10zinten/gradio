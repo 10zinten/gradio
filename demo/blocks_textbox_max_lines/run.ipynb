{
 "cells": [
  {
   "cell_type": "markdown",
   "id": "3818c685",
   "metadata": {},
   "source": [
    "# Gradio Demo: blocks_textbox_max_lines"
   ]
  },
  {
   "cell_type": "code",
   "execution_count": null,
   "id": "2763c2a0",
   "metadata": {},
   "outputs": [],
   "source": [
    "!pip install -q gradio "
   ]
  },
  {
   "cell_type": "code",
   "execution_count": null,
   "id": "dd9f8431",
   "metadata": {},
   "outputs": [],
   "source": [
    "import gradio as gr\n",
    "\n",
    "\n",
    "def greet(name: str, repeat: float):\n",
    "    return \"Hello \" + name * int(repeat) + \"!!\"\n",
    "\n",
    "\n",
    "demo = gr.Interface(\n",
    "    fn=greet, inputs=[gr.Textbox(lines=2, max_lines=4), gr.Number()], outputs=\"textarea\"\n",
    ")\n",
    "\n",
    "if __name__ == \"__main__\":\n",
    "    demo.launch()\n"
   ]
  }
 ],
 "metadata": {},
 "nbformat": 4,
 "nbformat_minor": 5
}

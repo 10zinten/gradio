{
 "cells": [
  {
   "cell_type": "markdown",
   "id": "5c1f98ed",
   "metadata": {},
   "source": [
    "# Gradio Demo: textbox_component"
   ]
  },
  {
   "cell_type": "code",
   "execution_count": null,
   "id": "f84f21da",
   "metadata": {},
   "outputs": [],
   "source": [
    "!pip install -q gradio "
   ]
  },
  {
   "cell_type": "code",
   "execution_count": null,
   "id": "95cd1e17",
   "metadata": {},
   "outputs": [],
   "source": [
    "import gradio as gr \n",
    "\n",
    "with gr.Blocks() as demo:\n",
    "    gr.Textbox()\n",
    "\n",
    "demo.launch()"
   ]
  }
 ],
 "metadata": {},
 "nbformat": 4,
 "nbformat_minor": 5
}

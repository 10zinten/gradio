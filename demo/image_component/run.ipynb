{
 "cells": [
  {
   "cell_type": "markdown",
   "id": "dc0ac676",
   "metadata": {},
   "source": [
    "# Gradio Demo: image_component"
   ]
  },
  {
   "cell_type": "code",
   "execution_count": null,
   "id": "c864f1f2",
   "metadata": {},
   "outputs": [],
   "source": [
    "!pip install -q gradio "
   ]
  },
  {
   "cell_type": "code",
   "execution_count": null,
   "id": "86cc6af7",
   "metadata": {},
   "outputs": [],
   "source": [
    "import gradio as gr \n",
    "\n",
    "with gr.Blocks() as demo:\n",
    "    gr.Image()\n",
    "\n",
    "demo.launch()"
   ]
  }
 ],
 "metadata": {},
 "nbformat": 4,
 "nbformat_minor": 5
}

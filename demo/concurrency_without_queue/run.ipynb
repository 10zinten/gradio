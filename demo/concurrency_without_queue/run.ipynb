{
 "cells": [
  {
   "cell_type": "markdown",
   "id": "0f99db4b",
   "metadata": {},
   "source": [
    "# Gradio Demo: concurrency_without_queue"
   ]
  },
  {
   "cell_type": "code",
   "execution_count": null,
   "id": "7a8d2dd8",
   "metadata": {},
   "outputs": [],
   "source": [
    "!pip install -q gradio "
   ]
  },
  {
   "cell_type": "code",
   "execution_count": null,
   "id": "1b2af61b",
   "metadata": {},
   "outputs": [],
   "source": [
    "import gradio as gr\n",
    "import time\n",
    "\n",
    "\n",
    "def say_hello(name):\n",
    "  time.sleep(5)\n",
    "  return f\"Hello {name}!\"\n",
    "\n",
    "\n",
    "with gr.Blocks() as demo:\n",
    "  inp = gr.Textbox()\n",
    "  outp = gr.Textbox()\n",
    "  button = gr.Button()\n",
    "  button.click(say_hello, inp, outp)\n",
    "\n",
    "  demo.launch(max_threads=41)\n"
   ]
  }
 ],
 "metadata": {},
 "nbformat": 4,
 "nbformat_minor": 5
}

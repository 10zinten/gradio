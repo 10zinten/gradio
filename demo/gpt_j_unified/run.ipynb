{
 "cells": [
  {
   "cell_type": "markdown",
   "id": "0ee5a86e",
   "metadata": {},
   "source": [
    "# Gradio Demo: gpt_j_unified"
   ]
  },
  {
   "cell_type": "code",
   "execution_count": null,
   "id": "afcd535e",
   "metadata": {},
   "outputs": [],
   "source": [
    "!pip install -q gradio "
   ]
  },
  {
   "cell_type": "code",
   "execution_count": null,
   "id": "b7695844",
   "metadata": {},
   "outputs": [],
   "source": [
    "import gradio as gr\n",
    "\n",
    "component = gr.Textbox(lines=5, label=\"Text\")\n",
    "api = gr.Interface.load(\"huggingface/EleutherAI/gpt-j-6B\")\n",
    "\n",
    "demo = gr.Interface(\n",
    "    fn=lambda x: x[:-50] + api(x[-50:]),\n",
    "    inputs=component,\n",
    "    outputs=component,\n",
    "    title=\"GPT-J-6B\",\n",
    ")\n",
    "\n",
    "if __name__ == \"__main__\":\n",
    "    demo.launch()\n"
   ]
  }
 ],
 "metadata": {},
 "nbformat": 4,
 "nbformat_minor": 5
}

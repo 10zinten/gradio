{
 "cells": [
  {
   "cell_type": "markdown",
   "id": "b4c81fc6",
   "metadata": {},
   "source": [
    "# Gradio Demo: image_classifier_interface_load"
   ]
  },
  {
   "cell_type": "code",
   "execution_count": null,
   "id": "3b191a6d",
   "metadata": {},
   "outputs": [],
   "source": [
    "!pip install -q gradio "
   ]
  },
  {
   "cell_type": "code",
   "execution_count": null,
   "id": "40de6a03",
   "metadata": {},
   "outputs": [],
   "source": [
    "# Downloading files from the demo repo\n",
    "import os\n",
    "!wget -q https://github.com/gradio-app/gradio/raw/main/demo/image_classifier_interface_load/lion.jpg\n",
    "!wget -q https://github.com/gradio-app/gradio/raw/main/demo/image_classifier_interface_load/cheetah1.jpg\n",
    "!wget -q https://github.com/gradio-app/gradio/raw/main/demo/image_classifier_interface_load/cheetah1.jpeg"
   ]
  },
  {
   "cell_type": "code",
   "execution_count": null,
   "id": "e27200dc",
   "metadata": {},
   "outputs": [],
   "source": [
    "import gradio as gr\n",
    "import pathlib\n",
    "\n",
    "current_dir = pathlib.Path(__file__).parent\n",
    "\n",
    "images = [str(current_dir / \"cheetah1.jpeg\"), str(current_dir / \"cheetah1.jpg\"), str(current_dir / \"lion.jpg\")]\n",
    "\n",
    "\n",
    "img_classifier = gr.Interface.load(\n",
    "    \"models/google/vit-base-patch16-224\", examples=images, cache_examples=False\n",
    ")\n",
    "\n",
    "\n",
    "def func(img, text):\n",
    "    return img_classifier(img), text\n",
    "\n",
    "\n",
    "using_img_classifier_as_function = gr.Interface(\n",
    "    func,\n",
    "    [gr.Image(type=\"filepath\"), \"text\"],\n",
    "    [\"label\", \"text\"],\n",
    "    examples=[\n",
    "        [str(current_dir / \"cheetah1.jpeg\"), None],\n",
    "        [str(current_dir / \"cheetah1.jpg\"), \"cheetah\"],\n",
    "        [str(current_dir / \"lion.jpg\"), \"lion\"],\n",
    "    ],\n",
    "    cache_examples=False,\n",
    ")\n",
    "demo = gr.TabbedInterface([using_img_classifier_as_function, img_classifier])\n",
    "\n",
    "if __name__ == \"__main__\":\n",
    "    demo.launch()"
   ]
  }
 ],
 "metadata": {},
 "nbformat": 4,
 "nbformat_minor": 5
}

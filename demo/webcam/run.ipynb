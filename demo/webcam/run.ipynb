{
 "cells": [
  {
   "cell_type": "markdown",
   "id": "919e19ae",
   "metadata": {},
   "source": [
    "# Gradio Demo: webcam"
   ]
  },
  {
   "cell_type": "code",
   "execution_count": null,
   "id": "e306b1d5",
   "metadata": {},
   "outputs": [],
   "source": [
    "!pip install -q gradio "
   ]
  },
  {
   "cell_type": "code",
   "execution_count": null,
   "id": "d42d1d63",
   "metadata": {},
   "outputs": [],
   "source": [
    "import numpy as np\n",
    "\n",
    "import gradio as gr\n",
    "\n",
    "\n",
    "def snap(image, video):\n",
    "    return [image, video]\n",
    "\n",
    "\n",
    "demo = gr.Interface(\n",
    "    snap,\n",
    "    [gr.Image(source=\"webcam\", tool=None), gr.Video(source=\"webcam\")],\n",
    "    [\"image\", \"video\"],\n",
    ")\n",
    "\n",
    "if __name__ == \"__main__\":\n",
    "    demo.launch()\n"
   ]
  }
 ],
 "metadata": {},
 "nbformat": 4,
 "nbformat_minor": 5
}

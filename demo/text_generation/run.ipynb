{
 "cells": [
  {
   "cell_type": "markdown",
   "id": "f82702d2",
   "metadata": {},
   "source": [
    "# Gradio Demo: text_generation\n",
    "### This text generation demo takes in input text and returns generated text. It uses the Transformers library to set up the model and has two examples.\n",
    "        "
   ]
  },
  {
   "cell_type": "code",
   "execution_count": null,
   "id": "aadef73c",
   "metadata": {},
   "outputs": [],
   "source": [
    "!pip install -q gradio git+https://github.com/huggingface/transformers gradio torch"
   ]
  },
  {
   "cell_type": "code",
   "execution_count": null,
   "id": "b00c2512",
   "metadata": {},
   "outputs": [],
   "source": [
    "import gradio as gr\n",
    "from transformers import pipeline\n",
    "\n",
    "generator = pipeline('text-generation', model='gpt2')\n",
    "\n",
    "def generate(text):\n",
    "    result = generator(text, max_length=30, num_return_sequences=1)\n",
    "    return result[0][\"generated_text\"]\n",
    "\n",
    "examples = [\n",
    "    [\"The Moon's orbit around Earth has\"],\n",
    "    [\"The smooth Borealis basin in the Northern Hemisphere covers 40%\"],\n",
    "]\n",
    "\n",
    "demo = gr.Interface(\n",
    "    fn=generate,\n",
    "    inputs=gr.inputs.Textbox(lines=5, label=\"Input Text\"),\n",
    "    outputs=gr.outputs.Textbox(label=\"Generated Text\"),\n",
    "    examples=examples\n",
    ")\n",
    "\n",
    "demo.launch()\n"
   ]
  }
 ],
 "metadata": {},
 "nbformat": 4,
 "nbformat_minor": 5
}

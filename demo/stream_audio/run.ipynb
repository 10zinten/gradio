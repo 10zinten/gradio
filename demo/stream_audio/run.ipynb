{
 "cells": [
  {
   "cell_type": "markdown",
   "id": "e725192c",
   "metadata": {},
   "source": [
    "# Gradio Demo: stream_audio"
   ]
  },
  {
   "cell_type": "code",
   "execution_count": null,
   "id": "7ee6ea7c",
   "metadata": {},
   "outputs": [],
   "source": [
    "!pip install -q gradio "
   ]
  },
  {
   "cell_type": "code",
   "execution_count": null,
   "id": "ce241d29",
   "metadata": {},
   "outputs": [],
   "source": [
    "import gradio as gr\n",
    "import numpy as np\n",
    "import time\n",
    "\n",
    "def add_to_stream(audio, instream):\n",
    "    time.sleep(1)\n",
    "    if audio is None:\n",
    "        return gr.update(), instream\n",
    "    if instream is None:\n",
    "        ret = audio\n",
    "    else:\n",
    "        ret = (audio[0], np.concatenate((instream[1], audio[1])))\n",
    "    return ret, ret\n",
    "\n",
    "\n",
    "with gr.Blocks() as demo:\n",
    "    inp = gr.Audio(source=\"microphone\")\n",
    "    out = gr.Audio()\n",
    "    stream = gr.State()\n",
    "    clear = gr.Button(\"Clear\")\n",
    "\n",
    "    inp.stream(add_to_stream, [inp, stream], [out, stream])\n",
    "    clear.click(lambda: [None, None, None], None, [inp, out, stream])\n",
    "\n",
    "\n",
    "if __name__ == \"__main__\":\n",
    "    demo.launch()"
   ]
  }
 ],
 "metadata": {},
 "nbformat": 4,
 "nbformat_minor": 5
}

{
 "cells": [
  {
   "cell_type": "markdown",
   "id": "fba00402",
   "metadata": {},
   "source": [
    "# Gradio Demo: button_component"
   ]
  },
  {
   "cell_type": "code",
   "execution_count": null,
   "id": "db53672d",
   "metadata": {},
   "outputs": [],
   "source": [
    "!pip install -q gradio "
   ]
  },
  {
   "cell_type": "code",
   "execution_count": null,
   "id": "d8cd5448",
   "metadata": {},
   "outputs": [],
   "source": [
    "import gradio as gr\n",
    "\n",
    "with gr.Blocks() as demo:\n",
    "   gr.Button()\n",
    "    \n",
    "demo.launch()"
   ]
  }
 ],
 "metadata": {},
 "nbformat": 4,
 "nbformat_minor": 5
}

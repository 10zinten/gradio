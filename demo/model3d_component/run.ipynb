{
 "cells": [
  {
   "cell_type": "markdown",
   "id": "ff96057f",
   "metadata": {},
   "source": [
    "# Gradio Demo: model3d_component"
   ]
  },
  {
   "cell_type": "code",
   "execution_count": null,
   "id": "edfa3353",
   "metadata": {},
   "outputs": [],
   "source": [
    "!pip install -q gradio "
   ]
  },
  {
   "cell_type": "code",
   "execution_count": null,
   "id": "3d587c14",
   "metadata": {},
   "outputs": [],
   "source": [
    "import gradio as gr \n",
    "\n",
    "with gr.Blocks() as demo:\n",
    "    gr.Model3D()\n",
    "\n",
    "demo.launch()"
   ]
  }
 ],
 "metadata": {},
 "nbformat": 4,
 "nbformat_minor": 5
}

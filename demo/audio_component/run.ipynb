{
 "cells": [
  {
   "cell_type": "markdown",
   "id": "737120a5",
   "metadata": {},
   "source": [
    "# Gradio Demo: audio_component"
   ]
  },
  {
   "cell_type": "code",
   "execution_count": null,
   "id": "eabceb58",
   "metadata": {},
   "outputs": [],
   "source": [
    "!pip install -q gradio "
   ]
  },
  {
   "cell_type": "code",
   "execution_count": null,
   "id": "4c739f73",
   "metadata": {},
   "outputs": [],
   "source": [
    "import gradio as gr\n",
    "\n",
    "with gr.Blocks() as demo:\n",
    "    gr.Audio()\n",
    "\n",
    "demo.launch()\n"
   ]
  }
 ],
 "metadata": {},
 "nbformat": 4,
 "nbformat_minor": 5
}

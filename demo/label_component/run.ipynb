{
 "cells": [
  {
   "cell_type": "markdown",
   "id": "1b0630aa",
   "metadata": {},
   "source": [
    "# Gradio Demo: label_component"
   ]
  },
  {
   "cell_type": "code",
   "execution_count": null,
   "id": "467ddade",
   "metadata": {},
   "outputs": [],
   "source": [
    "!pip install -q gradio "
   ]
  },
  {
   "cell_type": "code",
   "execution_count": null,
   "id": "4c829f86",
   "metadata": {},
   "outputs": [],
   "source": [
    "import gradio as gr \n",
    "\n",
    "with gr.Blocks() as demo:\n",
    "    gr.Label(value={\"First Label\": 0.7, \"Second Label\": 0.2, \"Third Label\": 0.1})\n",
    "\n",
    "demo.launch()"
   ]
  }
 ],
 "metadata": {},
 "nbformat": 4,
 "nbformat_minor": 5
}

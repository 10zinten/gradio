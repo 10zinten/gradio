{
 "cells": [
  {
   "cell_type": "markdown",
   "id": "935001e5",
   "metadata": {},
   "source": [
    "# Gradio Demo: blocks_essay_update"
   ]
  },
  {
   "cell_type": "code",
   "execution_count": null,
   "id": "a45d067b",
   "metadata": {},
   "outputs": [],
   "source": [
    "!pip install -q gradio "
   ]
  },
  {
   "cell_type": "code",
   "execution_count": null,
   "id": "940deb4c",
   "metadata": {},
   "outputs": [],
   "source": [
    "import gradio as gr\n",
    "\n",
    "def change_textbox(choice):\n",
    "    if choice == \"short\":\n",
    "        return gr.update(lines=2, visible=True, value=\"Short story: \")\n",
    "    elif choice == \"long\":\n",
    "        return gr.update(lines=8, visible=True, value=\"Long story...\")\n",
    "    else:\n",
    "        return gr.update(visible=False)\n",
    "\n",
    "with gr.Blocks() as demo:\n",
    "    radio = gr.Radio(\n",
    "        [\"short\", \"long\", \"none\"], label=\"Essay Length to Write?\"\n",
    "    )\n",
    "    text = gr.Textbox(lines=2, interactive=True)\n",
    "    radio.change(fn=change_textbox, inputs=radio, outputs=text)\n",
    "\n",
    "if __name__ == \"__main__\":\n",
    "    demo.launch()"
   ]
  }
 ],
 "metadata": {},
 "nbformat": 4,
 "nbformat_minor": 5
}

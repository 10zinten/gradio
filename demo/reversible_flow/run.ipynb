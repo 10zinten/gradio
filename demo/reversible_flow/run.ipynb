{
 "cells": [
  {
   "cell_type": "markdown",
   "id": "2c6ec42f",
   "metadata": {},
   "source": [
    "# Gradio Demo: reversible_flow"
   ]
  },
  {
   "cell_type": "code",
   "execution_count": null,
   "id": "9346933f",
   "metadata": {},
   "outputs": [],
   "source": [
    "!pip install -q gradio "
   ]
  },
  {
   "cell_type": "code",
   "execution_count": null,
   "id": "19c365d1",
   "metadata": {},
   "outputs": [],
   "source": [
    "import gradio as gr\n",
    "\n",
    "def increase(num):\n",
    "    return num + 1\n",
    "\n",
    "with gr.Blocks() as demo:\n",
    "    a = gr.Number(label=\"a\")\n",
    "    b = gr.Number(label=\"b\")\n",
    "    btoa = gr.Button(\"a > b\")\n",
    "    atob = gr.Button(\"b > a\")\n",
    "    atob.click(increase, a, b)\n",
    "    btoa.click(increase, b, a)\n",
    "\n",
    "if __name__ == \"__main__\":\n",
    "    demo.launch()"
   ]
  }
 ],
 "metadata": {},
 "nbformat": 4,
 "nbformat_minor": 5
}

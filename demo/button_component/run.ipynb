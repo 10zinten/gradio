{
 "cells": [
  {
   "cell_type": "markdown",
   "id": "19361efd",
   "metadata": {},
   "source": [
    "# Gradio Demo: button_component"
   ]
  },
  {
   "cell_type": "code",
   "execution_count": null,
   "id": "eecbc1ce",
   "metadata": {},
   "outputs": [],
   "source": [
    "!pip install -q gradio "
   ]
  },
  {
   "cell_type": "code",
   "execution_count": null,
   "id": "3d91bfbe",
   "metadata": {},
   "outputs": [],
   "source": [
    "import gradio as gr\n",
    "\n",
    "with gr.Blocks() as demo:\n",
    "   gr.Button()\n",
    "    \n",
    "demo.launch()"
   ]
  }
 ],
 "metadata": {},
 "nbformat": 4,
 "nbformat_minor": 5
}

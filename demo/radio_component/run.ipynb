{
 "cells": [
  {
   "cell_type": "markdown",
   "id": "c01ca3e8",
   "metadata": {},
   "source": [
    "# Gradio Demo: radio_component"
   ]
  },
  {
   "cell_type": "code",
   "execution_count": null,
   "id": "460d8e67",
   "metadata": {},
   "outputs": [],
   "source": [
    "!pip install -q gradio "
   ]
  },
  {
   "cell_type": "code",
   "execution_count": null,
   "id": "4e53e14c",
   "metadata": {},
   "outputs": [],
   "source": [
    "import gradio as gr \n",
    "\n",
    "with gr.Blocks() as demo:\n",
    "    gr.Radio(choices=[\"First Choice\", \"Second Choice\", \"Third Choice\"])\n",
    "\n",
    "demo.launch()"
   ]
  }
 ],
 "metadata": {},
 "nbformat": 4,
 "nbformat_minor": 5
}

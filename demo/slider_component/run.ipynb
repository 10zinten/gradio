{
 "cells": [
  {
   "cell_type": "markdown",
   "id": "093a3f93",
   "metadata": {},
   "source": [
    "# Gradio Demo: slider_component"
   ]
  },
  {
   "cell_type": "code",
   "execution_count": null,
   "id": "186b71cb",
   "metadata": {},
   "outputs": [],
   "source": [
    "!pip install -q gradio "
   ]
  },
  {
   "cell_type": "code",
   "execution_count": null,
   "id": "3ae5e73e",
   "metadata": {},
   "outputs": [],
   "source": [
    "import gradio as gr \n",
    "\n",
    "with gr.Blocks() as demo:\n",
    "    gr.Slider()\n",
    "\n",
    "demo.launch()"
   ]
  }
 ],
 "metadata": {},
 "nbformat": 4,
 "nbformat_minor": 5
}

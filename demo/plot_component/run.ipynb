{
 "cells": [
  {
   "cell_type": "markdown",
   "id": "d4962fab",
   "metadata": {},
   "source": [
    "# Gradio Demo: plot_component"
   ]
  },
  {
   "cell_type": "code",
   "execution_count": null,
   "id": "78efe236",
   "metadata": {},
   "outputs": [],
   "source": [
    "!pip install -q gradio matplotlib numpy"
   ]
  },
  {
   "cell_type": "code",
   "execution_count": null,
   "id": "5d02e7ed",
   "metadata": {},
   "outputs": [],
   "source": [
    "import gradio as gr \n",
    "import matplotlib.pyplot as plt\n",
    "import numpy as np\n",
    "\n",
    "Fs = 8000\n",
    "f = 5\n",
    "sample = 8000\n",
    "x = np.arange(sample)\n",
    "y = np.sin(2 * np.pi * f * x / Fs)\n",
    "plt.plot(x, y)\n",
    "\n",
    "with gr.Blocks() as demo:\n",
    "    gr.Plot(value=plt)\n",
    "\n",
    "demo.launch()"
   ]
  }
 ],
 "metadata": {},
 "nbformat": 4,
 "nbformat_minor": 5
}

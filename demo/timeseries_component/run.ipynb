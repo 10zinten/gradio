{
 "cells": [
  {
   "cell_type": "markdown",
   "id": "4a6dbd83",
   "metadata": {},
   "source": [
    "# Gradio Demo: timeseries_component"
   ]
  },
  {
   "cell_type": "code",
   "execution_count": null,
   "id": "6d89c00f",
   "metadata": {},
   "outputs": [],
   "source": [
    "!pip install -q gradio "
   ]
  },
  {
   "cell_type": "code",
   "execution_count": null,
   "id": "8725d140",
   "metadata": {},
   "outputs": [],
   "source": [
    "import gradio as gr \n",
    "\n",
    "with gr.Blocks() as demo:\n",
    "    gr.Timeseries()\n",
    "\n",
    "demo.launch()"
   ]
  }
 ],
 "metadata": {},
 "nbformat": 4,
 "nbformat_minor": 5
}

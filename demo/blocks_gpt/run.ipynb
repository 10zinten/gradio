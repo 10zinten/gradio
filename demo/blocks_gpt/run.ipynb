{
 "cells": [
  {
   "cell_type": "markdown",
   "id": "b4a2b8cd",
   "metadata": {},
   "source": [
    "# Gradio Demo: blocks_gpt"
   ]
  },
  {
   "cell_type": "code",
   "execution_count": null,
   "id": "e3d988c0",
   "metadata": {},
   "outputs": [],
   "source": [
    "!pip install -q gradio "
   ]
  },
  {
   "cell_type": "code",
   "execution_count": null,
   "id": "23c5345e",
   "metadata": {},
   "outputs": [],
   "source": [
    "import gradio as gr\n",
    "\n",
    "api = gr.Interface.load(\"huggingface/EleutherAI/gpt-j-6B\")\n",
    "\n",
    "def complete_with_gpt(text):\n",
    "    # Use the last 50 characters of the text as context\n",
    "    return text[:-50] + api(text[-50:])\n",
    "\n",
    "with gr.Blocks() as demo:\n",
    "    textbox = gr.Textbox(placeholder=\"Type here and press enter...\", lines=4)\n",
    "    btn = gr.Button(\"Generate\")\n",
    "    \n",
    "    btn.click(complete_with_gpt, textbox, textbox)\n",
    "    \n",
    "if __name__ == \"__main__\":\n",
    "    demo.launch()"
   ]
  }
 ],
 "metadata": {},
 "nbformat": 4,
 "nbformat_minor": 5
}

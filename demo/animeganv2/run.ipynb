{
 "cells": [
  {
   "cell_type": "markdown",
   "id": "d3b93581",
   "metadata": {},
   "source": [
    "# Gradio Demo: animeganv2\n",
    "### Recreate the viral AnimeGAN image transformation demo.\n",
    "        "
   ]
  },
  {
   "cell_type": "code",
   "execution_count": null,
   "id": "215dfd5d",
   "metadata": {},
   "outputs": [],
   "source": [
    "!pip install -q gradio torch torchvision Pillow gdown numpy scipy cmake onnxruntime-gpu opencv-python-headless"
   ]
  },
  {
   "cell_type": "code",
   "execution_count": null,
   "id": "c0ed1f8d",
   "metadata": {},
   "outputs": [],
   "source": [
    "# Downloading files from the demo repo\n",
    "import os\n",
    "!wget -q https://github.com/gradio-app/gradio/raw/main/demo/animeganv2/groot.jpeg\n",
    "!wget -q https://github.com/gradio-app/gradio/raw/main/demo/animeganv2/gongyoo.jpeg"
   ]
  },
  {
   "cell_type": "code",
   "execution_count": null,
   "id": "215be542",
   "metadata": {},
   "outputs": [],
   "source": [
    "import gradio as gr\n",
    "from PIL import Image\n",
    "import torch\n",
    "\n",
    "model2 = torch.hub.load(\n",
    "    \"AK391/animegan2-pytorch:main\",\n",
    "    \"generator\",\n",
    "    pretrained=True,\n",
    "    progress=False\n",
    ")\n",
    "model1 = torch.hub.load(\"AK391/animegan2-pytorch:main\", \"generator\", pretrained=\"face_paint_512_v1\")\n",
    "face2paint = torch.hub.load(\n",
    "    'AK391/animegan2-pytorch:main', 'face2paint', \n",
    "    size=512,side_by_side=False\n",
    ")\n",
    "\n",
    "def inference(img, ver):\n",
    "    if ver == 'version 2 (🔺 robustness,🔻 stylization)':\n",
    "        out = face2paint(model2, img)\n",
    "    else:\n",
    "        out = face2paint(model1, img)\n",
    "    return out\n",
    "\n",
    "title = \"AnimeGANv2\"\n",
    "description = \"Gradio Demo for AnimeGanv2 Face Portrait. To use it, simply upload your image, or click one of the examples to load them. Read more at the links below. Please use a cropped portrait picture for best results similar to the examples below.\"\n",
    "article = \"<p style='text-align: center'><a href='https://github.com/bryandlee/animegan2-pytorch' target='_blank'>Github Repo Pytorch</a></p> <center><img src='https://visitor-badge.glitch.me/badge?page_id=akhaliq_animegan' alt='visitor badge'></center></p>\"\n",
    "examples=[['groot.jpeg','version 2 (🔺 robustness,🔻 stylization)'],['gongyoo.jpeg','version 1 (🔺 stylization, 🔻 robustness)']]\n",
    "\n",
    "demo = gr.Interface(\n",
    "    fn=inference, \n",
    "    inputs=[gr.inputs.Image(type=\"pil\"),gr.inputs.Radio(['version 1 (🔺 stylization, 🔻 robustness)','version 2 (🔺 robustness,🔻 stylization)'], type=\"value\", default='version 2 (🔺 robustness,🔻 stylization)', label='version')], \n",
    "    outputs=gr.outputs.Image(type=\"pil\"),\n",
    "    title=title,\n",
    "    description=description,\n",
    "    article=article,\n",
    "    examples=examples)\n",
    "\n",
    "demo.launch()"
   ]
  }
 ],
 "metadata": {},
 "nbformat": 4,
 "nbformat_minor": 5
}

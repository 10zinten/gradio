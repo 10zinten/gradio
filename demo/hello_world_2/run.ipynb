{
 "cells": [
  {
   "cell_type": "markdown",
   "id": "c36ae81f",
   "metadata": {},
   "source": [
    "# Gradio Demo: hello_world_2"
   ]
  },
  {
   "cell_type": "code",
   "execution_count": null,
   "id": "66268706",
   "metadata": {},
   "outputs": [],
   "source": [
    "!pip install -q gradio "
   ]
  },
  {
   "cell_type": "code",
   "execution_count": null,
   "id": "b37a6371",
   "metadata": {},
   "outputs": [],
   "source": [
    "import gradio as gr\n",
    "\n",
    "def greet(name):\n",
    "    return \"Hello \" + name + \"!\"\n",
    "\n",
    "demo = gr.Interface(\n",
    "    fn=greet,\n",
    "    inputs=gr.Textbox(lines=2, placeholder=\"Name Here...\"),\n",
    "    outputs=\"text\",\n",
    ")\n",
    "if __name__ == \"__main__\":\n",
    "    demo.launch()\n"
   ]
  }
 ],
 "metadata": {},
 "nbformat": 4,
 "nbformat_minor": 5
}

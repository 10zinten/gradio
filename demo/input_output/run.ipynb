{
 "cells": [
  {
   "cell_type": "markdown",
   "id": "b4e177f0",
   "metadata": {},
   "source": [
    "# Gradio Demo: input_output"
   ]
  },
  {
   "cell_type": "code",
   "execution_count": null,
   "id": "84c863f0",
   "metadata": {},
   "outputs": [],
   "source": [
    "!pip install -q gradio "
   ]
  },
  {
   "cell_type": "code",
   "execution_count": null,
   "id": "f725fc9e",
   "metadata": {},
   "outputs": [],
   "source": [
    "import gradio as gr\n",
    "\n",
    "\n",
    "def image_mod(text):\n",
    "    return text[::-1]\n",
    "\n",
    "\n",
    "demo = gr.Blocks()\n",
    "\n",
    "with demo:\n",
    "    text = gr.Textbox(label=\"Input-Output\")\n",
    "    btn = gr.Button(\"Run\")\n",
    "    btn.click(image_mod, text, text)\n",
    "\n",
    "if __name__ == \"__main__\":\n",
    "    demo.launch()\n"
   ]
  }
 ],
 "metadata": {},
 "nbformat": 4,
 "nbformat_minor": 5
}

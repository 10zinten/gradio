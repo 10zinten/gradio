{
 "cells": [
  {
   "cell_type": "markdown",
   "id": "21e62251",
   "metadata": {},
   "source": [
    "# Gradio Demo: gpt_j_unified"
   ]
  },
  {
   "cell_type": "code",
   "execution_count": null,
   "id": "fa2a75dd",
   "metadata": {},
   "outputs": [],
   "source": [
    "!pip install -q gradio "
   ]
  },
  {
   "cell_type": "code",
   "execution_count": null,
   "id": "bd51d475",
   "metadata": {},
   "outputs": [],
   "source": [
    "import gradio as gr\n",
    "\n",
    "component = gr.Textbox(lines=5, label=\"Text\")\n",
    "api = gr.Interface.load(\"huggingface/EleutherAI/gpt-j-6B\")\n",
    "\n",
    "demo = gr.Interface(\n",
    "    fn=lambda x: x[:-50] + api(x[-50:]),\n",
    "    inputs=component,\n",
    "    outputs=component,\n",
    "    title=\"GPT-J-6B\",\n",
    ")\n",
    "\n",
    "if __name__ == \"__main__\":\n",
    "    demo.launch()\n"
   ]
  }
 ],
 "metadata": {},
 "nbformat": 4,
 "nbformat_minor": 5
}

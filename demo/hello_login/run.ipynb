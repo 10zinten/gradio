{
 "cells": [
  {
   "cell_type": "markdown",
   "id": "d0a0fd51",
   "metadata": {},
   "source": [
    "# Gradio Demo: hello_login"
   ]
  },
  {
   "cell_type": "code",
   "execution_count": null,
   "id": "dc501b20",
   "metadata": {},
   "outputs": [],
   "source": [
    "!pip install -q gradio "
   ]
  },
  {
   "cell_type": "code",
   "execution_count": null,
   "id": "b1941879",
   "metadata": {},
   "outputs": [],
   "source": [
    "import gradio as gr\n",
    "\n",
    "user_db = {\"admin\": \"admin\", \"foo\": \"bar\"}\n",
    "\n",
    "\n",
    "def greet(name):\n",
    "    return \"Hello \" + name + \"!!\"\n",
    "\n",
    "\n",
    "demo = gr.Interface(fn=greet, inputs=\"text\", outputs=\"text\")\n",
    "if __name__ == \"__main__\":\n",
    "    demo.launch(enable_queue=False,\n",
    "        auth=lambda u, p: user_db.get(u) == p,\n",
    "        auth_message=\"This is a welcome message\")\n"
   ]
  }
 ],
 "metadata": {},
 "nbformat": 4,
 "nbformat_minor": 5
}

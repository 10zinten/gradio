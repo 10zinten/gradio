{
 "cells": [
  {
   "cell_type": "markdown",
   "id": "ee351d90",
   "metadata": {},
   "source": [
    "# Gradio Demo: blocks_webcam"
   ]
  },
  {
   "cell_type": "code",
   "execution_count": null,
   "id": "9a76f074",
   "metadata": {},
   "outputs": [],
   "source": [
    "!pip install -q gradio "
   ]
  },
  {
   "cell_type": "code",
   "execution_count": null,
   "id": "94e92255",
   "metadata": {},
   "outputs": [],
   "source": [
    "import numpy as np\n",
    "\n",
    "import gradio as gr\n",
    "\n",
    "\n",
    "def snap(image):\n",
    "    return np.flipud(image)\n",
    "\n",
    "\n",
    "demo = gr.Interface(snap, \"webcam\", \"image\")\n",
    "\n",
    "if __name__ == \"__main__\":\n",
    "    demo.launch()\n"
   ]
  }
 ],
 "metadata": {},
 "nbformat": 4,
 "nbformat_minor": 5
}

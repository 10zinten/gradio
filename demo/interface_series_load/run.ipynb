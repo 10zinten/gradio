{
 "cells": [
  {
   "cell_type": "markdown",
   "id": "38352dea",
   "metadata": {},
   "source": [
    "# Gradio Demo: interface_series_load"
   ]
  },
  {
   "cell_type": "code",
   "execution_count": null,
   "id": "e829be24",
   "metadata": {},
   "outputs": [],
   "source": [
    "!pip install -q gradio "
   ]
  },
  {
   "cell_type": "code",
   "execution_count": null,
   "id": "961b7761",
   "metadata": {},
   "outputs": [],
   "source": [
    "import gradio as gr\n",
    "\n",
    "generator = gr.Interface.load(\"huggingface/gpt2\")\n",
    "translator = gr.Interface.load(\"huggingface/t5-small\")\n",
    "\n",
    "demo = gr.Series(generator, translator)\n",
    "\n",
    "if __name__ == \"__main__\":\n",
    "    demo.launch()"
   ]
  }
 ],
 "metadata": {},
 "nbformat": 4,
 "nbformat_minor": 5
}

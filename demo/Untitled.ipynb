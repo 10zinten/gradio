{
 "cells": [
  {
   "cell_type": "code",
   "execution_count": 1,
   "id": "a5d101a0",
   "metadata": {},
   "outputs": [
    {
     "name": "stdout",
     "output_type": "stream",
     "text": [
      "Fetching model from: https://huggingface.co/facebook/fastspeech2-en-ljspeech\n",
      "Running on local URL:  http://127.0.0.1:7860/\n",
      "\n",
      "To create a public link, set `share=True` in `launch()`.\n"
     ]
    },
    {
     "data": {
      "text/html": [
       "<div><iframe src=\"http://127.0.0.1:7860/\" width=\"900\" height=\"500\" allow=\"autoplay; camera; microphone;\" frameborder=\"0\" allowfullscreen></iframe></div>"
      ],
      "text/plain": [
       "<IPython.core.display.HTML object>"
      ]
     },
     "metadata": {},
     "output_type": "display_data"
    },
    {
     "data": {
      "text/plain": [
       "(<gradio.routes.App at 0x11352a3a0>, 'http://127.0.0.1:7860/', None)"
      ]
     },
     "execution_count": 1,
     "metadata": {},
     "output_type": "execute_result"
    }
   ],
   "source": [
    "import gradio as gr\n",
    "\n",
    "tts_demo = gr.Interface.load(\n",
    "    \"huggingface/facebook/fastspeech2-en-ljspeech\",\n",
    "    title=None,\n",
    "    description=\"Give me something to say!\",\n",
    ")\n",
    "\n",
    "def call_text_to_speech_in_fn(text):\n",
    "    return tts_demo(text)\n",
    "\n",
    "\n",
    "tts_from_func = gr.Interface(call_text_to_speech_in_fn, \"text\", \"audio\")\n",
    "tts_from_func.launch()"
   ]
  },
  {
   "cell_type": "code",
   "execution_count": 3,
   "id": "44bf4147",
   "metadata": {},
   "outputs": [
    {
     "name": "stdout",
     "output_type": "stream",
     "text": [
      "Fetching model from: https://huggingface.co/google/vit-base-patch16-224\n",
      "Running on local URL:  http://127.0.0.1:7861/\n",
      "\n",
      "To create a public link, set `share=True` in `launch()`.\n"
     ]
    },
    {
     "data": {
      "text/html": [
       "<div><iframe src=\"http://127.0.0.1:7861/\" width=\"900\" height=\"500\" allow=\"autoplay; camera; microphone;\" frameborder=\"0\" allowfullscreen></iframe></div>"
      ],
      "text/plain": [
       "<IPython.core.display.HTML object>"
      ]
     },
     "metadata": {},
     "output_type": "display_data"
    },
    {
     "data": {
      "text/plain": [
       "(<gradio.routes.App at 0x1777f3dc0>, 'http://127.0.0.1:7861/', None)"
      ]
     },
     "execution_count": 3,
     "metadata": {},
     "output_type": "execute_result"
    }
   ],
   "source": [
    "img_classifier = gr.Interface.load(\n",
    "    \"models/google/vit-base-patch16-224\", cache_examples=True\n",
    ")\n",
    "\n",
    "def func(img):\n",
    "    return img_classifier(img)\n",
    "\n",
    "using_img_classifier_as_function = gr.Interface(\n",
    "    func,\n",
    "    [gr.Image(type=\"filepath\")],\n",
    "    [\"label\"],\n",
    ")\n",
    "using_img_classifier_as_function.launch()"
   ]
  },
  {
   "cell_type": "code",
   "execution_count": null,
   "id": "ec06847d",
   "metadata": {},
   "outputs": [],
   "source": []
  }
 ],
 "metadata": {
  "kernelspec": {
   "display_name": "Python 3 (ipykernel)",
   "language": "python",
   "name": "python3"
  },
  "language_info": {
   "codemirror_mode": {
    "name": "ipython",
    "version": 3
   },
   "file_extension": ".py",
   "mimetype": "text/x-python",
   "name": "python",
   "nbconvert_exporter": "python",
   "pygments_lexer": "ipython3",
   "version": "3.8.13"
  }
 },
 "nbformat": 4,
 "nbformat_minor": 5
}

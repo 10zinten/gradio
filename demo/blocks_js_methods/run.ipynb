{
 "cells": [
  {
   "cell_type": "markdown",
   "id": "40ce8407",
   "metadata": {},
   "source": [
    "# Gradio Demo: blocks_js_methods"
   ]
  },
  {
   "cell_type": "code",
   "execution_count": null,
   "id": "657061a1",
   "metadata": {},
   "outputs": [],
   "source": [
    "!pip install -q gradio "
   ]
  },
  {
   "cell_type": "code",
   "execution_count": null,
   "id": "80eeaf62",
   "metadata": {},
   "outputs": [],
   "source": [
    "import gradio as gr\n",
    "\n",
    "blocks = gr.Blocks()\n",
    "\n",
    "with blocks as demo:\n",
    "    subject = gr.Textbox(placeholder=\"subject\")\n",
    "    verb = gr.Radio([\"ate\", \"loved\", \"hated\"])\n",
    "    object = gr.Textbox(placeholder=\"object\")\n",
    "\n",
    "    with gr.Row():\n",
    "        btn = gr.Button(\"Create sentence.\")\n",
    "        reverse_btn = gr.Button(\"Reverse sentence.\")\n",
    "        foo_bar_btn = gr.Button(\"Foo bar.\")\n",
    "    \n",
    "    def sentence_maker(w1, w2, w3):\n",
    "        return f\"{w1} {w2} {w3}\"\n",
    "\n",
    "    output1 = gr.Textbox(label=\"output 1\")\n",
    "    output2 = gr.Textbox(label=\"verb\")\n",
    "    output3 = gr.Textbox(label=\"verb reversed\")\n",
    "\n",
    "    btn.click(sentence_maker, [subject, verb, object], output1)\n",
    "    reverse_btn.click(None, [subject, verb, object], output2, _js=\"(s, v, o) => o + ' ' + v + ' ' + s\")\n",
    "    verb.change(lambda x: x, verb, output3, _js=\"(x) => [...x].reverse().join('')\")\n",
    "    foo_bar_btn.click(None, [], subject, _js=\"(x) => x + ' foo'\")\n",
    "\n",
    "if __name__ == \"__main__\":\n",
    "    demo.launch()"
   ]
  }
 ],
 "metadata": {},
 "nbformat": 4,
 "nbformat_minor": 5
}

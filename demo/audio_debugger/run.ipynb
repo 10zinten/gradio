{
 "cells": [
  {
   "cell_type": "markdown",
   "id": "50702358",
   "metadata": {},
   "source": [
    "# Gradio Demo: audio_debugger"
   ]
  },
  {
   "cell_type": "code",
   "execution_count": null,
   "id": "0ccce217",
   "metadata": {},
   "outputs": [],
   "source": [
    "!pip install -q gradio "
   ]
  },
  {
   "cell_type": "code",
   "execution_count": null,
   "id": "5aeee585",
   "metadata": {},
   "outputs": [],
   "source": [
    "# Downloading files from the demo repo\n",
    "import os\n",
    "!wget -q https://github.com/gradio-app/gradio/raw/main/demo/audio_debugger/cantina.wav"
   ]
  },
  {
   "cell_type": "code",
   "execution_count": null,
   "id": "55d189d1",
   "metadata": {},
   "outputs": [],
   "source": [
    "import gradio as gr\n",
    "import subprocess\n",
    "import os\n",
    "\n",
    "audio_file = os.path.join(os.path.abspath(''), \"cantina.wav\")\n",
    "\n",
    "\n",
    "with gr.Blocks() as demo:\n",
    "    with gr.Tab(\"Audio\"):\n",
    "        gr.Audio(audio_file)\n",
    "    with gr.Tab(\"Interface\"):\n",
    "        gr.Interface(lambda x:x, \"audio\", \"audio\", examples=[audio_file])\n",
    "    with gr.Tab(\"console\"):\n",
    "        gr.Interface(lambda cmd:subprocess.run([cmd], capture_output=True, shell=True).stdout.decode('utf-8').strip(), \"text\", \"text\")\n",
    "        \n",
    "if __name__ == \"__main__\":\n",
    "    demo.launch()\n"
   ]
  }
 ],
 "metadata": {},
 "nbformat": 4,
 "nbformat_minor": 5
}

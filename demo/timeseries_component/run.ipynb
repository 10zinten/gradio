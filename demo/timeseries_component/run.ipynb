{
 "cells": [
  {
   "cell_type": "markdown",
   "id": "4e34544e",
   "metadata": {},
   "source": [
    "# Gradio Demo: timeseries_component"
   ]
  },
  {
   "cell_type": "code",
   "execution_count": null,
   "id": "dff612cb",
   "metadata": {},
   "outputs": [],
   "source": [
    "!pip install -q gradio "
   ]
  },
  {
   "cell_type": "code",
   "execution_count": null,
   "id": "bc03f286",
   "metadata": {},
   "outputs": [],
   "source": [
    "import gradio as gr \n",
    "\n",
    "with gr.Blocks() as demo:\n",
    "    gr.Timeseries()\n",
    "\n",
    "demo.launch()"
   ]
  }
 ],
 "metadata": {},
 "nbformat": 4,
 "nbformat_minor": 5
}

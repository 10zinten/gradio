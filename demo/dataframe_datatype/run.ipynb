{
 "cells": [
  {
   "cell_type": "markdown",
   "id": "24fe50eb",
   "metadata": {},
   "source": [
    "# Gradio Demo: dataframe_datatype"
   ]
  },
  {
   "cell_type": "code",
   "execution_count": null,
   "id": "e9d3102e",
   "metadata": {},
   "outputs": [],
   "source": [
    "!pip install -q gradio "
   ]
  },
  {
   "cell_type": "code",
   "execution_count": null,
   "id": "11b08863",
   "metadata": {},
   "outputs": [],
   "source": [
    "import gradio as gr\n",
    "import pandas as pd\n",
    "import numpy as np\n",
    "\n",
    "\n",
    "def make_dataframe(n_periods):\n",
    "    return pd.DataFrame({\"date_1\": pd.date_range(\"2021-01-01\", periods=n_periods),\n",
    "                         \"date_2\": pd.date_range(\"2022-02-15\", periods=n_periods).strftime('%B %d, %Y, %r'),\n",
    "                         \"number\": np.random.random(n_periods).astype(np.float64),\n",
    "                         \"number_2\": np.random.randint(0, 100, n_periods).astype(np.int32),\n",
    "                         \"bool\": [True] * n_periods,\n",
    "                         \"markdown\": [\"# Hello\"] * n_periods})\n",
    "\n",
    "\n",
    "demo = gr.Interface(make_dataframe,\n",
    "             gr.Number(precision=0),\n",
    "             gr.Dataframe(datatype=[\"date\", \"date\", \"number\", \"number\", \"bool\", \"markdown\"]))\n",
    "\n",
    "\n",
    "if __name__ == \"__main__\":\n",
    "    demo.launch()"
   ]
  }
 ],
 "metadata": {},
 "nbformat": 4,
 "nbformat_minor": 5
}

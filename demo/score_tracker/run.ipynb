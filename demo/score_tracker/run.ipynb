{
 "cells": [
  {
   "cell_type": "markdown",
   "id": "ec2193b8",
   "metadata": {},
   "source": [
    "# Gradio Demo: score_tracker"
   ]
  },
  {
   "cell_type": "code",
   "execution_count": null,
   "id": "96e4d13c",
   "metadata": {},
   "outputs": [],
   "source": [
    "!pip install -q gradio "
   ]
  },
  {
   "cell_type": "code",
   "execution_count": null,
   "id": "d798ccee",
   "metadata": {},
   "outputs": [],
   "source": [
    "import gradio as gr\n",
    "\n",
    "scores = []\n",
    "\n",
    "def track_score(score):\n",
    "    scores.append(score)\n",
    "    top_scores = sorted(scores, reverse=True)[:3]\n",
    "    return top_scores\n",
    "\n",
    "demo = gr.Interface(\n",
    "    track_score, \n",
    "    gr.Number(label=\"Score\"), \n",
    "    gr.JSON(label=\"Top Scores\")\n",
    ")\n",
    "if __name__ == \"__main__\":\n",
    "    demo.launch()"
   ]
  }
 ],
 "metadata": {},
 "nbformat": 4,
 "nbformat_minor": 5
}

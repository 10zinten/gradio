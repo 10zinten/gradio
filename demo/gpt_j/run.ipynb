{
 "cells": [
  {
   "cell_type": "markdown",
   "id": "49fa4495",
   "metadata": {},
   "source": [
    "# Gradio Demo: gpt_j"
   ]
  },
  {
   "cell_type": "code",
   "execution_count": null,
   "id": "dea313ce",
   "metadata": {},
   "outputs": [],
   "source": [
    "!pip install -q gradio "
   ]
  },
  {
   "cell_type": "code",
   "execution_count": null,
   "id": "3f817c0c",
   "metadata": {},
   "outputs": [],
   "source": [
    "import gradio as gr\n",
    "\n",
    "title = \"GPT-J-6B\"\n",
    "\n",
    "examples = [\n",
    "    [\"The tower is 324 metres (1,063 ft) tall,\"],\n",
    "    [\"The Moon's orbit around Earth has\"],\n",
    "    [\"The smooth Borealis basin in the Northern Hemisphere covers 40%\"],\n",
    "]\n",
    "\n",
    "demo = gr.Interface.load(\n",
    "    \"huggingface/EleutherAI/gpt-j-6B\",\n",
    "    inputs=gr.Textbox(lines=5, max_lines=6, label=\"Input Text\"),\n",
    "    title=title,\n",
    "    examples=examples,\n",
    ")\n",
    "\n",
    "if __name__ == \"__main__\":\n",
    "    demo.launch()\n"
   ]
  }
 ],
 "metadata": {},
 "nbformat": 4,
 "nbformat_minor": 5
}

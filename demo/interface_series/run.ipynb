{
 "cells": [
  {
   "cell_type": "markdown",
   "id": "f079d4ee",
   "metadata": {},
   "source": [
    "# Gradio Demo: interface_series"
   ]
  },
  {
   "cell_type": "code",
   "execution_count": null,
   "id": "efb16999",
   "metadata": {},
   "outputs": [],
   "source": [
    "!pip install -q gradio "
   ]
  },
  {
   "cell_type": "code",
   "execution_count": null,
   "id": "ed6c9d84",
   "metadata": {},
   "outputs": [],
   "source": [
    "import gradio as gr\n",
    "\n",
    "get_name = gr.Interface(lambda name: name, inputs=\"textbox\", outputs=\"textbox\")\n",
    "prepend_hello = gr.Interface(lambda name: f\"Hello {name}!\", inputs=\"textbox\", outputs=\"textbox\")\n",
    "append_nice = gr.Interface(lambda greeting: f\"{greeting} Nice to meet you!\",\n",
    "                           inputs=\"textbox\", outputs=gr.Textbox(label=\"Greeting\"))\n",
    "demo = gr.Series(get_name, prepend_hello, append_nice)\n",
    "\n",
    "if __name__ == \"__main__\":\n",
    "    demo.launch()"
   ]
  }
 ],
 "metadata": {},
 "nbformat": 4,
 "nbformat_minor": 5
}

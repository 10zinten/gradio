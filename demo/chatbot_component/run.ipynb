{
 "cells": [
  {
   "cell_type": "markdown",
   "id": "f57eef0d",
   "metadata": {},
   "source": [
    "# Gradio Demo: chatbot_component"
   ]
  },
  {
   "cell_type": "code",
   "execution_count": null,
   "id": "9faba105",
   "metadata": {},
   "outputs": [],
   "source": [
    "!pip install -q gradio "
   ]
  },
  {
   "cell_type": "code",
   "execution_count": null,
   "id": "3fe53fe8",
   "metadata": {},
   "outputs": [],
   "source": [
    "import gradio as gr\n",
    "\n",
    "with gr.Blocks() as demo:\n",
    "    gr.Chatbot(value=[[\"Hello World\",\"Hey Gradio!\"],[\"❤️\",\"😍\"],[\"🔥\",\"🤗\"]])\n",
    "\n",
    "demo.launch()"
   ]
  }
 ],
 "metadata": {},
 "nbformat": 4,
 "nbformat_minor": 5
}

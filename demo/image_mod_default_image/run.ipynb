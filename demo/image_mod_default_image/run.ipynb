{
 "cells": [
  {
   "cell_type": "markdown",
   "id": "fcc52d9b",
   "metadata": {},
   "source": [
    "# Gradio Demo: image_mod_default_image"
   ]
  },
  {
   "cell_type": "code",
   "execution_count": null,
   "id": "bca4f4b3",
   "metadata": {},
   "outputs": [],
   "source": [
    "!pip install -q gradio "
   ]
  },
  {
   "cell_type": "code",
   "execution_count": null,
   "id": "eef92bad",
   "metadata": {},
   "outputs": [],
   "source": [
    "# Downloading files from the demo repo\n",
    "import os\n",
    "os.mkdir('images')\n",
    "!wget -q -O images/lion.jpg https://github.com/gradio-app/gradio/raw/main/demo/image_mod_default_image/images/lion.jpg\n",
    "!wget -q -O images/cheetah1.jpg https://github.com/gradio-app/gradio/raw/main/demo/image_mod_default_image/images/cheetah1.jpg\n",
    "!wget -q -O images/logo.png https://github.com/gradio-app/gradio/raw/main/demo/image_mod_default_image/images/logo.png"
   ]
  },
  {
   "cell_type": "code",
   "execution_count": null,
   "id": "0c700f30",
   "metadata": {},
   "outputs": [],
   "source": [
    "import gradio as gr\n",
    "import os\n",
    "\n",
    "\n",
    "def image_mod(image):\n",
    "    return image.rotate(45)\n",
    "\n",
    "\n",
    "cheetah = os.path.join(os.path.abspath(''), \"images/cheetah1.jpg\")\n",
    "\n",
    "demo = gr.Interface(image_mod, gr.Image(type=\"pil\", value=cheetah), \"image\",\n",
    "    flagging_options=[\"blurry\", \"incorrect\", \"other\"], examples=[\n",
    "        os.path.join(os.path.abspath(''), \"images/lion.jpg\"),\n",
    "        os.path.join(os.path.abspath(''), \"images/logo.png\")\n",
    "        ])\n",
    "\n",
    "if __name__ == \"__main__\":\n",
    "    demo.launch()\n"
   ]
  }
 ],
 "metadata": {},
 "nbformat": 4,
 "nbformat_minor": 5
}

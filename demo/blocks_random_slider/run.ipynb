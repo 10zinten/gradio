{
 "cells": [
  {
   "cell_type": "markdown",
   "id": "6a6d955e",
   "metadata": {},
   "source": [
    "# Gradio Demo: blocks_random_slider"
   ]
  },
  {
   "cell_type": "code",
   "execution_count": null,
   "id": "c2916a6f",
   "metadata": {},
   "outputs": [],
   "source": [
    "!pip install -q gradio "
   ]
  },
  {
   "cell_type": "code",
   "execution_count": null,
   "id": "9013e5c7",
   "metadata": {},
   "outputs": [],
   "source": [
    "\n",
    "import gradio as gr\n",
    "\n",
    "\n",
    "def func(slider_1, slider_2):\n",
    "    return slider_1 * 5 + slider_2\n",
    "\n",
    "\n",
    "with gr.Blocks() as demo:\n",
    "    slider = gr.Slider(minimum=-10.2, maximum=15, label=\"Random Slider (Static)\", randomize=True)\n",
    "    slider_1 = gr.Slider(minimum=100, maximum=200, label=\"Random Slider (Input 1)\", randomize=True)\n",
    "    slider_2 = gr.Slider(minimum=10, maximum=23.2, label=\"Random Slider (Input 2)\", randomize=True)\n",
    "    slider_3 = gr.Slider(value=3, label=\"Non random slider\")\n",
    "    btn = gr.Button(\"Run\")\n",
    "    btn.click(func, inputs=[slider_1, slider_2], outputs=gr.Number())\n",
    "\n",
    "if __name__ == \"__main__\":\n",
    "    demo.launch()\n"
   ]
  }
 ],
 "metadata": {},
 "nbformat": 4,
 "nbformat_minor": 5
}

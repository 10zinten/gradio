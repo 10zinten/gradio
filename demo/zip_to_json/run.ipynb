{
 "cells": [
  {
   "cell_type": "markdown",
   "id": "2b6bb95a",
   "metadata": {},
   "source": [
    "# Gradio Demo: zip_to_json"
   ]
  },
  {
   "cell_type": "code",
   "execution_count": null,
   "id": "1cc4bccb",
   "metadata": {},
   "outputs": [],
   "source": [
    "!pip install -q gradio "
   ]
  },
  {
   "cell_type": "code",
   "execution_count": null,
   "id": "7decde78",
   "metadata": {},
   "outputs": [],
   "source": [
    "from zipfile import ZipFile\n",
    "\n",
    "import gradio as gr\n",
    "\n",
    "\n",
    "def zip_to_json(file_obj):\n",
    "    files = []\n",
    "    with ZipFile(file_obj.name) as zfile:\n",
    "        for zinfo in zfile.infolist():\n",
    "            files.append(\n",
    "                {\n",
    "                    \"name\": zinfo.filename,\n",
    "                    \"file_size\": zinfo.file_size,\n",
    "                    \"compressed_size\": zinfo.compress_size,\n",
    "                }\n",
    "            )\n",
    "    return files\n",
    "\n",
    "\n",
    "demo = gr.Interface(zip_to_json, \"file\", \"json\")\n",
    "\n",
    "if __name__ == \"__main__\":\n",
    "    demo.launch()\n"
   ]
  }
 ],
 "metadata": {},
 "nbformat": 4,
 "nbformat_minor": 5
}

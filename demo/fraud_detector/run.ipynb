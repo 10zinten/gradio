{
 "cells": [
  {
   "cell_type": "markdown",
   "id": "3256a712",
   "metadata": {},
   "source": [
    "# Gradio Demo: fraud_detector"
   ]
  },
  {
   "cell_type": "code",
   "execution_count": null,
   "id": "a9a0100f",
   "metadata": {},
   "outputs": [],
   "source": [
    "!pip install -q gradio pandas"
   ]
  },
  {
   "cell_type": "code",
   "execution_count": null,
   "id": "8fb2d7b3",
   "metadata": {},
   "outputs": [],
   "source": [
    "# Downloading files from the demo repo\n",
    "import os\n",
    "!wget -q https://github.com/gradio-app/gradio/raw/main/demo/fraud_detector/fraud.csv"
   ]
  },
  {
   "cell_type": "code",
   "execution_count": null,
   "id": "7cd5d8a4",
   "metadata": {},
   "outputs": [],
   "source": [
    "import random\n",
    "import os\n",
    "import gradio as gr\n",
    "\n",
    "\n",
    "def fraud_detector(card_activity, categories, sensitivity):\n",
    "    activity_range = random.randint(0, 100)\n",
    "    drop_columns = [\n",
    "        column for column in [\"retail\", \"food\", \"other\"] if column not in categories\n",
    "    ]\n",
    "    if len(drop_columns):\n",
    "        card_activity.drop(columns=drop_columns, inplace=True)\n",
    "    return (\n",
    "        card_activity,\n",
    "        card_activity,\n",
    "        {\"fraud\": activity_range / 100.0, \"not fraud\": 1 - activity_range / 100.0},\n",
    "    )\n",
    "\n",
    "\n",
    "demo = gr.Interface(\n",
    "    fraud_detector,\n",
    "    [\n",
    "        gr.Timeseries(x=\"time\", y=[\"retail\", \"food\", \"other\"]),\n",
    "        gr.CheckboxGroup(\n",
    "            [\"retail\", \"food\", \"other\"], value=[\"retail\", \"food\", \"other\"]\n",
    "        ),\n",
    "        gr.Slider(1, 3),\n",
    "    ],\n",
    "    [\n",
    "        \"dataframe\",\n",
    "        gr.Timeseries(x=\"time\", y=[\"retail\", \"food\", \"other\"]),\n",
    "        gr.Label(label=\"Fraud Level\"),\n",
    "    ],\n",
    "    examples=[\n",
    "        [os.path.join(os.path.abspath(''), \"fraud.csv\"), [\"retail\", \"food\", \"other\"], 1.0],\n",
    "    ],\n",
    ")\n",
    "if __name__ == \"__main__\":\n",
    "    demo.launch()\n"
   ]
  }
 ],
 "metadata": {},
 "nbformat": 4,
 "nbformat_minor": 5
}

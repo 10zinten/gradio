{
 "cells": [
  {
   "cell_type": "markdown",
   "id": "c2a2e488",
   "metadata": {},
   "source": [
    "# Gradio Demo: slider_component"
   ]
  },
  {
   "cell_type": "code",
   "execution_count": null,
   "id": "b4a5db9f",
   "metadata": {},
   "outputs": [],
   "source": [
    "!pip install -q gradio "
   ]
  },
  {
   "cell_type": "code",
   "execution_count": null,
   "id": "d5028d6f",
   "metadata": {},
   "outputs": [],
   "source": [
    "import gradio as gr \n",
    "\n",
    "with gr.Blocks() as demo:\n",
    "    gr.Slider()\n",
    "\n",
    "demo.launch()"
   ]
  }
 ],
 "metadata": {},
 "nbformat": 4,
 "nbformat_minor": 5
}

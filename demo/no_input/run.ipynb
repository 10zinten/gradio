{
 "cells": [
  {
   "cell_type": "markdown",
   "id": "998885d5",
   "metadata": {},
   "source": [
    "# Gradio Demo: no_input"
   ]
  },
  {
   "cell_type": "code",
   "execution_count": null,
   "id": "347b5b19",
   "metadata": {},
   "outputs": [],
   "source": [
    "!pip install -q gradio "
   ]
  },
  {
   "cell_type": "code",
   "execution_count": null,
   "id": "7d5b3a01",
   "metadata": {},
   "outputs": [],
   "source": [
    "import gradio as gr\n",
    "import random\n",
    "\n",
    "sentence_list = [\n",
    "    \"Good morning!\",\n",
    "    \"Prayers are with you, have a safe day!\",\n",
    "    \"I love you!\"\n",
    "]\n",
    "\n",
    "\n",
    "def random_sentence():\n",
    "    return sentence_list[random.randint(0, 2)]\n",
    "\n",
    "\n",
    "demo = gr.Interface(fn=random_sentence, inputs=None, outputs=\"text\")\n",
    "\n",
    "if __name__ == \"__main__\":\n",
    "    demo.launch()\n"
   ]
  }
 ],
 "metadata": {},
 "nbformat": 4,
 "nbformat_minor": 5
}

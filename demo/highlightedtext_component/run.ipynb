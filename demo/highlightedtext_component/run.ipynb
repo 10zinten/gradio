{
 "cells": [
  {
   "cell_type": "markdown",
   "id": "a96888e7",
   "metadata": {},
   "source": [
    "# Gradio Demo: highlightedtext_component"
   ]
  },
  {
   "cell_type": "code",
   "execution_count": null,
   "id": "9cb17e82",
   "metadata": {},
   "outputs": [],
   "source": [
    "!pip install -q gradio "
   ]
  },
  {
   "cell_type": "code",
   "execution_count": null,
   "id": "cb19d966",
   "metadata": {},
   "outputs": [],
   "source": [
    "import gradio as gr \n",
    "\n",
    "with gr.Blocks() as demo:\n",
    "    gr.HighlightedText(value=[(\"Text\",\"Label 1\"),(\"to be\",\"Label 2\"),(\"highlighted\",\"Label 3\")])\n",
    "\n",
    "demo.launch()"
   ]
  }
 ],
 "metadata": {},
 "nbformat": 4,
 "nbformat_minor": 5
}

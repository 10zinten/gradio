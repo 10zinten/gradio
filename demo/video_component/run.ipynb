{
 "cells": [
  {
   "cell_type": "markdown",
   "id": "12534cd9",
   "metadata": {},
   "source": [
    "# Gradio Demo: video_component"
   ]
  },
  {
   "cell_type": "code",
   "execution_count": null,
   "id": "06e104b4",
   "metadata": {},
   "outputs": [],
   "source": [
    "!pip install -q gradio "
   ]
  },
  {
   "cell_type": "code",
   "execution_count": null,
   "id": "8c25eff0",
   "metadata": {},
   "outputs": [],
   "source": [
    "import gradio as gr \n",
    "\n",
    "with gr.Blocks() as demo:\n",
    "    gr.Video()\n",
    "\n",
    "demo.launch()"
   ]
  }
 ],
 "metadata": {},
 "nbformat": 4,
 "nbformat_minor": 5
}

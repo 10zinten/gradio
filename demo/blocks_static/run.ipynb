{
 "cells": [
  {
   "cell_type": "markdown",
   "id": "26027029",
   "metadata": {},
   "source": [
    "# Gradio Demo: blocks_static"
   ]
  },
  {
   "cell_type": "code",
   "execution_count": null,
   "id": "1380c238",
   "metadata": {},
   "outputs": [],
   "source": [
    "!pip install -q gradio "
   ]
  },
  {
   "cell_type": "code",
   "execution_count": null,
   "id": "45bb5c55",
   "metadata": {},
   "outputs": [],
   "source": [
    "import gradio as gr\n",
    "\n",
    "demo = gr.Blocks()\n",
    "\n",
    "with demo:\n",
    "    gr.Image(\n",
    "        \"https://images.unsplash.com/photo-1507003211169-0a1dd7228f2d?ixlib=rb-1.2.1&ixid=MnwxMjA3fDB8MHxwaG90by1wYWdlfHx8fGVufDB8fHx8&auto=format&fit=crop&w=387&q=80\"\n",
    "    )\n",
    "    gr.Textbox(\"hi\")\n",
    "    gr.Number(3)\n",
    "\n",
    "if __name__ == \"__main__\":\n",
    "    demo.launch()\n"
   ]
  }
 ],
 "metadata": {},
 "nbformat": 4,
 "nbformat_minor": 5
}

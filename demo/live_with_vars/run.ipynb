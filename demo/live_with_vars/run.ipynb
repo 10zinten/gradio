{
 "cells": [
  {
   "cell_type": "markdown",
   "id": "73df085d",
   "metadata": {},
   "source": [
    "# Gradio Demo: live_with_vars"
   ]
  },
  {
   "cell_type": "code",
   "execution_count": null,
   "id": "64aa9f4f",
   "metadata": {},
   "outputs": [],
   "source": [
    "!pip install -q gradio "
   ]
  },
  {
   "cell_type": "code",
   "execution_count": null,
   "id": "dcceae47",
   "metadata": {},
   "outputs": [],
   "source": [
    "import gradio as gr\n",
    "\n",
    "demo = gr.Interface(\n",
    "    lambda x, y: (x + y if y is not None else x, x + y if y is not None else x), \n",
    "    [\"textbox\", \"state\"], \n",
    "    [\"textbox\", \"state\"], live=True)\n",
    "\n",
    "if __name__ == \"__main__\":\n",
    "    demo.launch()\n"
   ]
  }
 ],
 "metadata": {},
 "nbformat": 4,
 "nbformat_minor": 5
}

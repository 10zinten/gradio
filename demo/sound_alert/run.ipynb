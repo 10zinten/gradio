{
 "cells": [
  {
   "cell_type": "markdown",
   "id": "bcd08964",
   "metadata": {},
   "source": [
    "# Gradio Demo: sound_alert"
   ]
  },
  {
   "cell_type": "code",
   "execution_count": null,
   "id": "e381d467",
   "metadata": {},
   "outputs": [],
   "source": [
    "!pip install -q gradio "
   ]
  },
  {
   "cell_type": "code",
   "execution_count": null,
   "id": "d3d13df9",
   "metadata": {},
   "outputs": [],
   "source": [
    "# Downloading files from the demo repo\n",
    "import os\n",
    "!wget -q https://github.com/gradio-app/gradio/raw/main/demo/sound_alert/beep.mp3"
   ]
  },
  {
   "cell_type": "code",
   "execution_count": null,
   "id": "78720058",
   "metadata": {},
   "outputs": [],
   "source": [
    "import time\n",
    "import gradio as gr\n",
    "\n",
    "\n",
    "js_function = \"() => {new Audio('file=beep.mp3').play();}\"\n",
    "\n",
    "def task(x):\n",
    "    time.sleep(2)\n",
    "    return \"Hello, \" + x \n",
    "\n",
    "with gr.Blocks() as demo:\n",
    "    name = gr.Textbox(label=\"name\")\n",
    "    greeting = gr.Textbox(label=\"greeting\")\n",
    "    name.blur(task, name, greeting)\n",
    "    greeting.change(None, [], [], _js=js_function)  # Note that _js is a special arugment whose usage may change in the future\n",
    "    \n",
    "demo.launch()"
   ]
  }
 ],
 "metadata": {},
 "nbformat": 4,
 "nbformat_minor": 5
}

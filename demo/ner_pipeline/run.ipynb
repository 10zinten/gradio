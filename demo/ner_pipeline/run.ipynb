{
 "cells": [
  {
   "cell_type": "markdown",
   "id": "317bf7b4",
   "metadata": {},
   "source": [
    "# Gradio Demo: ner_pipeline"
   ]
  },
  {
   "cell_type": "code",
   "execution_count": null,
   "id": "4daa94c3",
   "metadata": {},
   "outputs": [],
   "source": [
    "!pip install -q gradio torch transformers"
   ]
  },
  {
   "cell_type": "code",
   "execution_count": null,
   "id": "b04b533c",
   "metadata": {},
   "outputs": [],
   "source": [
    "from transformers import pipeline\n",
    "\n",
    "import gradio as gr\n",
    "\n",
    "ner_pipeline = pipeline(\"ner\")\n",
    "\n",
    "examples = [\n",
    "    \"Does Chicago have any stores and does Joe live here?\",\n",
    "]\n",
    "\n",
    "def ner(text):\n",
    "    output = ner_pipeline(text)\n",
    "    return {\"text\": text, \"entities\": output}    \n",
    "\n",
    "demo = gr.Interface(ner,\n",
    "             gr.Textbox(placeholder=\"Enter sentence here...\"), \n",
    "             gr.HighlightedText(),\n",
    "             examples=examples)\n",
    "\n",
    "if __name__ == \"__main__\":\n",
    "    demo.launch()\n"
   ]
  }
 ],
 "metadata": {},
 "nbformat": 4,
 "nbformat_minor": 5
}

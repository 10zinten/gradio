{
 "cells": [
  {
   "cell_type": "markdown",
   "id": "1b93e367",
   "metadata": {},
   "source": [
    "# Gradio Demo: concurrency_with_queue"
   ]
  },
  {
   "cell_type": "code",
   "execution_count": null,
   "id": "17e1ec7d",
   "metadata": {},
   "outputs": [],
   "source": [
    "!pip install -q gradio "
   ]
  },
  {
   "cell_type": "code",
   "execution_count": null,
   "id": "8da884c9",
   "metadata": {},
   "outputs": [],
   "source": [
    "import gradio as gr\n",
    "import time\n",
    "\n",
    "\n",
    "def say_hello(name):\n",
    "  time.sleep(5)\n",
    "  return f\"Hello {name}!\"\n",
    "\n",
    "\n",
    "with gr.Blocks() as demo:\n",
    "  inp = gr.Textbox()\n",
    "  outp = gr.Textbox()\n",
    "  button = gr.Button()\n",
    "  button.click(say_hello, inp, outp)\n",
    "\n",
    "  demo.queue(concurrency_count=41).launch()\n"
   ]
  }
 ],
 "metadata": {},
 "nbformat": 4,
 "nbformat_minor": 5
}

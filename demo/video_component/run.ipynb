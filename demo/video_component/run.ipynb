{
 "cells": [
  {
   "cell_type": "markdown",
   "id": "904f307e",
   "metadata": {},
   "source": [
    "# Gradio Demo: video_component"
   ]
  },
  {
   "cell_type": "code",
   "execution_count": null,
   "id": "ee89cd2e",
   "metadata": {},
   "outputs": [],
   "source": [
    "!pip install -q gradio "
   ]
  },
  {
   "cell_type": "code",
   "execution_count": null,
   "id": "eea441d8",
   "metadata": {},
   "outputs": [],
   "source": [
    "import gradio as gr \n",
    "\n",
    "with gr.Blocks() as demo:\n",
    "    gr.Video()\n",
    "\n",
    "demo.launch()"
   ]
  }
 ],
 "metadata": {},
 "nbformat": 4,
 "nbformat_minor": 5
}

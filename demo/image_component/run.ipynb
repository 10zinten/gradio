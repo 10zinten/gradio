{
 "cells": [
  {
   "cell_type": "markdown",
   "id": "26e0af05",
   "metadata": {},
   "source": [
    "# Gradio Demo: image_component"
   ]
  },
  {
   "cell_type": "code",
   "execution_count": null,
   "id": "510f14de",
   "metadata": {},
   "outputs": [],
   "source": [
    "!pip install -q gradio "
   ]
  },
  {
   "cell_type": "code",
   "execution_count": null,
   "id": "8aad7f03",
   "metadata": {},
   "outputs": [],
   "source": [
    "import gradio as gr \n",
    "\n",
    "with gr.Blocks() as demo:\n",
    "    gr.Image()\n",
    "\n",
    "demo.launch()"
   ]
  }
 ],
 "metadata": {},
 "nbformat": 4,
 "nbformat_minor": 5
}

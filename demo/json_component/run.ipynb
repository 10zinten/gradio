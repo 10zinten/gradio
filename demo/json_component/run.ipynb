{
 "cells": [
  {
   "cell_type": "markdown",
   "id": "974bb643",
   "metadata": {},
   "source": [
    "# Gradio Demo: json_component"
   ]
  },
  {
   "cell_type": "code",
   "execution_count": null,
   "id": "699a70e8",
   "metadata": {},
   "outputs": [],
   "source": [
    "!pip install -q gradio "
   ]
  },
  {
   "cell_type": "code",
   "execution_count": null,
   "id": "f9b01402",
   "metadata": {},
   "outputs": [],
   "source": [
    "import gradio as gr \n",
    "\n",
    "with gr.Blocks() as demo:\n",
    "    gr.JSON(value={\"Key 1\": \"Value 1\", \"Key 2\": {\"Key 3\": \"Value 2\", \"Key 4\": \"Value 3\"}, \"Key 5\": [\"Item 1\", \"Item 2\", \"Item 3\"]})\n",
    "\n",
    "demo.launch()"
   ]
  }
 ],
 "metadata": {},
 "nbformat": 4,
 "nbformat_minor": 5
}

{
 "cells": [
  {
   "cell_type": "markdown",
   "id": "852ed594",
   "metadata": {},
   "source": [
    "# Gradio Demo: stt_or_tts"
   ]
  },
  {
   "cell_type": "code",
   "execution_count": null,
   "id": "cf293d82",
   "metadata": {},
   "outputs": [],
   "source": [
    "!pip install -q gradio "
   ]
  },
  {
   "cell_type": "code",
   "execution_count": null,
   "id": "3bec3ffa",
   "metadata": {},
   "outputs": [],
   "source": [
    "import gradio as gr\n",
    "\n",
    "title = \"GPT-J-6B\"\n",
    "\n",
    "tts_examples = [\n",
    "    \"I love learning machine learning\",\n",
    "    \"How do you do?\",\n",
    "]\n",
    "\n",
    "tts_demo = gr.Interface.load(\n",
    "    \"huggingface/facebook/fastspeech2-en-ljspeech\",\n",
    "    title=None,\n",
    "    examples=tts_examples,\n",
    "    description=\"Give me something to say!\",\n",
    ")\n",
    "\n",
    "stt_demo = gr.Interface.load(\n",
    "    \"huggingface/facebook/wav2vec2-base-960h\",\n",
    "    title=None,\n",
    "    inputs=\"mic\",\n",
    "    description=\"Let me try to guess what you're saying!\",\n",
    ")\n",
    "\n",
    "demo = gr.TabbedInterface([tts_demo, stt_demo], [\"Text-to-speech\", \"Speech-to-text\"])\n",
    "\n",
    "if __name__ == \"__main__\":\n",
    "    demo.launch()\n"
   ]
  }
 ],
 "metadata": {},
 "nbformat": 4,
 "nbformat_minor": 5
}
